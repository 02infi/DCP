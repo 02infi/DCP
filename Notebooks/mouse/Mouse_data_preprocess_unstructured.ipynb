{
 "cells": [
  {
   "cell_type": "code",
   "execution_count": 1,
   "id": "79e59764",
   "metadata": {},
   "outputs": [
    {
     "name": "stderr",
     "output_type": "stream",
     "text": [
      "Global seed set to 0\n",
      "/home/gaurav/anaconda3/envs/project/lib/python3.10/site-packages/pytorch_lightning/utilities/warnings.py:53: LightningDeprecationWarning: pytorch_lightning.utilities.warnings.rank_zero_deprecation has been deprecated in v1.6 and will be removed in v1.8. Use the equivalent function from the pytorch_lightning.utilities.rank_zero module instead.\n",
      "  new_rank_zero_deprecation(\n",
      "/home/gaurav/anaconda3/envs/project/lib/python3.10/site-packages/pytorch_lightning/utilities/warnings.py:58: LightningDeprecationWarning: The `pytorch_lightning.loggers.base.rank_zero_experiment` is deprecated in v1.7 and will be removed in v1.9. Please use `pytorch_lightning.loggers.logger.rank_zero_experiment` instead.\n",
      "  return new_rank_zero_deprecation(*args, **kwargs)\n"
     ]
    }
   ],
   "source": [
    "import deep_predictor\n",
    "from collections.abc import Mapping\n",
    "import torch\n",
    "import scanpy as sc"
   ]
  },
  {
   "cell_type": "code",
   "execution_count": 2,
   "id": "4f9a1b3e",
   "metadata": {},
   "outputs": [],
   "source": [
    "import scipy"
   ]
  },
  {
   "cell_type": "code",
   "execution_count": 3,
   "id": "262cf023",
   "metadata": {},
   "outputs": [],
   "source": [
    "import numpy as np\n",
    "import pandas as pd"
   ]
  },
  {
   "cell_type": "code",
   "execution_count": 4,
   "id": "6855eb27",
   "metadata": {},
   "outputs": [],
   "source": [
    "#adata = sc.read_h5ad(\"/home/gaurav/Gaurav/Berlin/Paper/Pijuan_sala_data/tree_data/Adata_subset.h5ad\")"
   ]
  },
  {
   "cell_type": "code",
   "execution_count": 5,
   "id": "8db16fe1",
   "metadata": {},
   "outputs": [],
   "source": [
    "#adata = sc.read_h5ad(\"/home/gaurav/Gaurav/Berlin/Paper/Pijuan_sala_data/adata_segment_subset.h5ad\")\n",
    "path_to_file = \"/home/gaurav/Gaurav/Berlin/Paper/Pijuan_sala_data/unstructured_data/Mouse_URD_tree_data.csv\"\n",
    "adata = sc.read_csv(path_to_file, delimiter=',').T"
   ]
  },
  {
   "cell_type": "code",
   "execution_count": 6,
   "id": "035ed277",
   "metadata": {},
   "outputs": [
    {
     "name": "stderr",
     "output_type": "stream",
     "text": [
      "/tmp/ipykernel_3288/714144093.py:1: DtypeWarning: Columns (25,30) have mixed types. Specify dtype option on import or set low_memory=False.\n",
      "  annotations = pd.read_csv(\"/home/gaurav/Gaurav/Berlin/Paper/Pijuan_sala_data/unstructured_data/Mouse_URD_meta.csv\",index_col = [\"Unnamed: 0\"] )\n"
     ]
    }
   ],
   "source": [
    "annotations = pd.read_csv(\"/home/gaurav/Gaurav/Berlin/Paper/Pijuan_sala_data/unstructured_data/Mouse_URD_meta.csv\",index_col = [\"Unnamed: 0\"] )\n",
    "adata.obs = annotations"
   ]
  },
  {
   "cell_type": "code",
   "execution_count": 7,
   "id": "b6e539e4",
   "metadata": {},
   "outputs": [],
   "source": [
    "#adata.write_h5ad(\"/home/gaurav/Gaurav/Berlin/Paper/Pijuan_sala_data/unstructured_data/Adata_mouse.h5ad\")"
   ]
  },
  {
   "cell_type": "code",
   "execution_count": 8,
   "id": "b68f61c3",
   "metadata": {},
   "outputs": [],
   "source": [
    "sc.pp.filter_cells(adata, min_genes=200)\n",
    "sc.pp.filter_genes(adata, min_cells=50)"
   ]
  },
  {
   "cell_type": "code",
   "execution_count": 9,
   "id": "56aa7dc8",
   "metadata": {},
   "outputs": [],
   "source": [
    "adata = adata[np.logical_not(adata.obs[\"stage\"] == 'mixed_gastrulation')]"
   ]
  },
  {
   "cell_type": "code",
   "execution_count": 10,
   "id": "55720bb1",
   "metadata": {},
   "outputs": [],
   "source": [
    "Time = []\n",
    "for i in adata.obs[\"stage\"] :\n",
    "    Time.append(float(i.split(\"E\")[1]))"
   ]
  },
  {
   "cell_type": "code",
   "execution_count": 11,
   "id": "3874416e",
   "metadata": {},
   "outputs": [
    {
     "name": "stderr",
     "output_type": "stream",
     "text": [
      "/tmp/ipykernel_3288/3102962000.py:1: ImplicitModificationWarning: Trying to modify attribute `.obs` of view, initializing view as actual.\n",
      "  adata.obs[\"Time\"] = np.array(Time)\n"
     ]
    }
   ],
   "source": [
    "adata.obs[\"Time\"] = np.array(Time)"
   ]
  },
  {
   "cell_type": "code",
   "execution_count": 12,
   "id": "08f35c5c",
   "metadata": {},
   "outputs": [
    {
     "data": {
      "text/plain": [
       "array(['Anterior Primitive Streak', 'Cardiomyocytes', 'Caudal Mesoderm',\n",
       "       'Caudal epiblast', 'Caudal neurectoderm', 'Def. endoderm',\n",
       "       'Epiblast', 'Forebrain/Midbrain/Hindbrain', 'Gut',\n",
       "       'Intermediate mesoderm', 'Mesenchyme', 'Mixed mesoderm', 'NMP',\n",
       "       'Nascent mesoderm', 'Neural crest', 'Notochord', 'PGC',\n",
       "       'Paraxial mesoderm', 'Pharyngeal mesoderm', 'Primitive Streak',\n",
       "       'Rostral neurectoderm', 'Somitic mesoderm', 'Spinal cord',\n",
       "       'Surface ectoderm'], dtype=object)"
      ]
     },
     "execution_count": 12,
     "metadata": {},
     "output_type": "execute_result"
    }
   ],
   "source": [
    "np.unique(adata.obs[\"celltype\"])"
   ]
  },
  {
   "cell_type": "code",
   "execution_count": 13,
   "id": "7be57d9b",
   "metadata": {},
   "outputs": [],
   "source": [
    "## Ectoderm  28,29 - 30,31,32,33\n",
    "ectoderm_celltype = ['Rostral neurectoderm','Caudal neurectoderm','Neural crest','Forebrain/Midbrain/Hindbrain','Spinal cord','Surface ectoderm']"
   ]
  },
  {
   "cell_type": "code",
   "execution_count": 14,
   "id": "a653a2f7",
   "metadata": {},
   "outputs": [],
   "source": [
    "## Mesoderm  9,10 - 11,12,13,14,16\n",
    "mesoderm_celltype = ['Nascent mesoderm','Mixed mesoderm','Caudal Mesoderm','Paraxial mesoderm','Somitic mesoderm','Pharyngeal mesoderm','Cardiomyocytes']"
   ]
  },
  {
   "cell_type": "code",
   "execution_count": 15,
   "id": "08145278",
   "metadata": {
    "scrolled": true
   },
   "outputs": [
    {
     "name": "stderr",
     "output_type": "stream",
     "text": [
      "/home/gaurav/anaconda3/envs/project/lib/python3.10/site-packages/anndata/_core/anndata.py:1828: UserWarning: Observation names are not unique. To make them unique, call `.obs_names_make_unique`.\n",
      "  utils.warn_names_duplicates(\"obs\")\n",
      "/home/gaurav/anaconda3/envs/project/lib/python3.10/site-packages/anndata/_core/anndata.py:1785: FutureWarning: X.dtype being converted to np.float32 from float64. In the next version of anndata (0.9) conversion will not be automatic. Pass dtype explicitly to avoid this warning. Pass `AnnData(X, dtype=X.dtype, ...)` to get the future behavour.\n",
      "  [AnnData(sparse.csr_matrix(a.shape), obs=a.obs) for a in all_adatas],\n",
      "/home/gaurav/anaconda3/envs/project/lib/python3.10/site-packages/anndata/_core/anndata.py:1828: UserWarning: Observation names are not unique. To make them unique, call `.obs_names_make_unique`.\n",
      "  utils.warn_names_duplicates(\"obs\")\n",
      "/home/gaurav/anaconda3/envs/project/lib/python3.10/site-packages/anndata/_core/anndata.py:1828: UserWarning: Observation names are not unique. To make them unique, call `.obs_names_make_unique`.\n",
      "  utils.warn_names_duplicates(\"obs\")\n",
      "/home/gaurav/anaconda3/envs/project/lib/python3.10/site-packages/anndata/_core/anndata.py:1785: FutureWarning: X.dtype being converted to np.float32 from float64. In the next version of anndata (0.9) conversion will not be automatic. Pass dtype explicitly to avoid this warning. Pass `AnnData(X, dtype=X.dtype, ...)` to get the future behavour.\n",
      "  [AnnData(sparse.csr_matrix(a.shape), obs=a.obs) for a in all_adatas],\n",
      "/home/gaurav/anaconda3/envs/project/lib/python3.10/site-packages/anndata/_core/anndata.py:1828: UserWarning: Observation names are not unique. To make them unique, call `.obs_names_make_unique`.\n",
      "  utils.warn_names_duplicates(\"obs\")\n",
      "/home/gaurav/anaconda3/envs/project/lib/python3.10/site-packages/anndata/_core/anndata.py:1828: UserWarning: Observation names are not unique. To make them unique, call `.obs_names_make_unique`.\n",
      "  utils.warn_names_duplicates(\"obs\")\n",
      "/home/gaurav/anaconda3/envs/project/lib/python3.10/site-packages/anndata/_core/anndata.py:1785: FutureWarning: X.dtype being converted to np.float32 from float64. In the next version of anndata (0.9) conversion will not be automatic. Pass dtype explicitly to avoid this warning. Pass `AnnData(X, dtype=X.dtype, ...)` to get the future behavour.\n",
      "  [AnnData(sparse.csr_matrix(a.shape), obs=a.obs) for a in all_adatas],\n",
      "/home/gaurav/anaconda3/envs/project/lib/python3.10/site-packages/anndata/_core/anndata.py:1828: UserWarning: Observation names are not unique. To make them unique, call `.obs_names_make_unique`.\n",
      "  utils.warn_names_duplicates(\"obs\")\n",
      "/home/gaurav/anaconda3/envs/project/lib/python3.10/site-packages/anndata/_core/anndata.py:1828: UserWarning: Observation names are not unique. To make them unique, call `.obs_names_make_unique`.\n",
      "  utils.warn_names_duplicates(\"obs\")\n",
      "/home/gaurav/anaconda3/envs/project/lib/python3.10/site-packages/anndata/_core/anndata.py:1785: FutureWarning: X.dtype being converted to np.float32 from float64. In the next version of anndata (0.9) conversion will not be automatic. Pass dtype explicitly to avoid this warning. Pass `AnnData(X, dtype=X.dtype, ...)` to get the future behavour.\n",
      "  [AnnData(sparse.csr_matrix(a.shape), obs=a.obs) for a in all_adatas],\n",
      "/home/gaurav/anaconda3/envs/project/lib/python3.10/site-packages/anndata/_core/anndata.py:1828: UserWarning: Observation names are not unique. To make them unique, call `.obs_names_make_unique`.\n",
      "  utils.warn_names_duplicates(\"obs\")\n",
      "/home/gaurav/anaconda3/envs/project/lib/python3.10/site-packages/anndata/_core/anndata.py:1828: UserWarning: Observation names are not unique. To make them unique, call `.obs_names_make_unique`.\n",
      "  utils.warn_names_duplicates(\"obs\")\n",
      "/home/gaurav/anaconda3/envs/project/lib/python3.10/site-packages/anndata/_core/anndata.py:1785: FutureWarning: X.dtype being converted to np.float32 from float64. In the next version of anndata (0.9) conversion will not be automatic. Pass dtype explicitly to avoid this warning. Pass `AnnData(X, dtype=X.dtype, ...)` to get the future behavour.\n",
      "  [AnnData(sparse.csr_matrix(a.shape), obs=a.obs) for a in all_adatas],\n",
      "/home/gaurav/anaconda3/envs/project/lib/python3.10/site-packages/anndata/_core/anndata.py:1828: UserWarning: Observation names are not unique. To make them unique, call `.obs_names_make_unique`.\n",
      "  utils.warn_names_duplicates(\"obs\")\n"
     ]
    }
   ],
   "source": [
    "#Training Data\n",
    "ectoderm_celltype = ['Neural crest','Forebrain/Midbrain/Hindbrain','Spinal cord','Surface ectoderm']\n",
    "\n",
    "prog_data_1 = adata[adata.obs['celltype'] == 'Rostral neurectoderm']\n",
    "random_index = np.random.choice(np.arange(0,np.shape(prog_data_1)[0]),500)\n",
    "prog_data_1 = prog_data_1[random_index]\n",
    "\n",
    "\n",
    "prog_data_2 = adata[adata.obs['celltype'] == 'Caudal neurectoderm']\n",
    "random_index = np.random.choice(np.arange(0,np.shape(prog_data_2)[0]),500)\n",
    "prog_data_2 = prog_data_2[random_index]\n",
    "\n",
    "ectoderm_adata = prog_data_1.concatenate(prog_data_2)\n",
    "\n",
    "for cell in ectoderm_celltype:\n",
    "    cell_adata = adata[adata.obs['celltype'] == cell]\n",
    "    random_index = np.random.choice(np.arange(0,np.shape(cell_adata)[0]),250)\n",
    "    cell_adata = cell_adata[random_index]\n",
    "    ectoderm_adata = ectoderm_adata.concatenate(cell_adata)"
   ]
  },
  {
   "cell_type": "code",
   "execution_count": 16,
   "id": "21a04e47",
   "metadata": {
    "scrolled": true
   },
   "outputs": [
    {
     "name": "stderr",
     "output_type": "stream",
     "text": [
      "/home/gaurav/anaconda3/envs/project/lib/python3.10/site-packages/anndata/_core/anndata.py:1828: UserWarning: Observation names are not unique. To make them unique, call `.obs_names_make_unique`.\n",
      "  utils.warn_names_duplicates(\"obs\")\n",
      "/home/gaurav/anaconda3/envs/project/lib/python3.10/site-packages/anndata/_core/anndata.py:1785: FutureWarning: X.dtype being converted to np.float32 from float64. In the next version of anndata (0.9) conversion will not be automatic. Pass dtype explicitly to avoid this warning. Pass `AnnData(X, dtype=X.dtype, ...)` to get the future behavour.\n",
      "  [AnnData(sparse.csr_matrix(a.shape), obs=a.obs) for a in all_adatas],\n",
      "/home/gaurav/anaconda3/envs/project/lib/python3.10/site-packages/anndata/_core/anndata.py:1828: UserWarning: Observation names are not unique. To make them unique, call `.obs_names_make_unique`.\n",
      "  utils.warn_names_duplicates(\"obs\")\n",
      "/home/gaurav/anaconda3/envs/project/lib/python3.10/site-packages/anndata/_core/anndata.py:1828: UserWarning: Observation names are not unique. To make them unique, call `.obs_names_make_unique`.\n",
      "  utils.warn_names_duplicates(\"obs\")\n",
      "/home/gaurav/anaconda3/envs/project/lib/python3.10/site-packages/anndata/_core/anndata.py:1785: FutureWarning: X.dtype being converted to np.float32 from float64. In the next version of anndata (0.9) conversion will not be automatic. Pass dtype explicitly to avoid this warning. Pass `AnnData(X, dtype=X.dtype, ...)` to get the future behavour.\n",
      "  [AnnData(sparse.csr_matrix(a.shape), obs=a.obs) for a in all_adatas],\n",
      "/home/gaurav/anaconda3/envs/project/lib/python3.10/site-packages/anndata/_core/anndata.py:1828: UserWarning: Observation names are not unique. To make them unique, call `.obs_names_make_unique`.\n",
      "  utils.warn_names_duplicates(\"obs\")\n",
      "/home/gaurav/anaconda3/envs/project/lib/python3.10/site-packages/anndata/_core/anndata.py:1828: UserWarning: Observation names are not unique. To make them unique, call `.obs_names_make_unique`.\n",
      "  utils.warn_names_duplicates(\"obs\")\n",
      "/home/gaurav/anaconda3/envs/project/lib/python3.10/site-packages/anndata/_core/anndata.py:1785: FutureWarning: X.dtype being converted to np.float32 from float64. In the next version of anndata (0.9) conversion will not be automatic. Pass dtype explicitly to avoid this warning. Pass `AnnData(X, dtype=X.dtype, ...)` to get the future behavour.\n",
      "  [AnnData(sparse.csr_matrix(a.shape), obs=a.obs) for a in all_adatas],\n",
      "/home/gaurav/anaconda3/envs/project/lib/python3.10/site-packages/anndata/_core/anndata.py:1828: UserWarning: Observation names are not unique. To make them unique, call `.obs_names_make_unique`.\n",
      "  utils.warn_names_duplicates(\"obs\")\n",
      "/home/gaurav/anaconda3/envs/project/lib/python3.10/site-packages/anndata/_core/anndata.py:1828: UserWarning: Observation names are not unique. To make them unique, call `.obs_names_make_unique`.\n",
      "  utils.warn_names_duplicates(\"obs\")\n",
      "/home/gaurav/anaconda3/envs/project/lib/python3.10/site-packages/anndata/_core/anndata.py:1785: FutureWarning: X.dtype being converted to np.float32 from float64. In the next version of anndata (0.9) conversion will not be automatic. Pass dtype explicitly to avoid this warning. Pass `AnnData(X, dtype=X.dtype, ...)` to get the future behavour.\n",
      "  [AnnData(sparse.csr_matrix(a.shape), obs=a.obs) for a in all_adatas],\n",
      "/home/gaurav/anaconda3/envs/project/lib/python3.10/site-packages/anndata/_core/anndata.py:1828: UserWarning: Observation names are not unique. To make them unique, call `.obs_names_make_unique`.\n",
      "  utils.warn_names_duplicates(\"obs\")\n",
      "/home/gaurav/anaconda3/envs/project/lib/python3.10/site-packages/anndata/_core/anndata.py:1828: UserWarning: Observation names are not unique. To make them unique, call `.obs_names_make_unique`.\n",
      "  utils.warn_names_duplicates(\"obs\")\n",
      "/home/gaurav/anaconda3/envs/project/lib/python3.10/site-packages/anndata/_core/anndata.py:1785: FutureWarning: X.dtype being converted to np.float32 from float64. In the next version of anndata (0.9) conversion will not be automatic. Pass dtype explicitly to avoid this warning. Pass `AnnData(X, dtype=X.dtype, ...)` to get the future behavour.\n",
      "  [AnnData(sparse.csr_matrix(a.shape), obs=a.obs) for a in all_adatas],\n",
      "/home/gaurav/anaconda3/envs/project/lib/python3.10/site-packages/anndata/_core/anndata.py:1828: UserWarning: Observation names are not unique. To make them unique, call `.obs_names_make_unique`.\n",
      "  utils.warn_names_duplicates(\"obs\")\n"
     ]
    }
   ],
   "source": [
    "#Training Data\n",
    "\n",
    "#Training Data\n",
    "mesoderm_celltype = ['Paraxial mesoderm','Somitic mesoderm','Pharyngeal mesoderm','Cardiomyocytes']\n",
    "\n",
    "prog_data_1 = adata[adata.obs['celltype'] == 'Nascent mesoderm']\n",
    "random_index = np.random.choice(np.arange(0,np.shape(prog_data_1)[0]),500)\n",
    "prog_data_1 = prog_data_1[random_index]\n",
    "\n",
    "\n",
    "prog_data_2 = adata[adata.obs['celltype'] == 'Mixed mesoderm']\n",
    "random_index = np.random.choice(np.arange(0,np.shape(prog_data_2)[0]),500)\n",
    "prog_data_2 = prog_data_2[random_index]\n",
    "\n",
    "mesoderm_adata = prog_data_1.concatenate(prog_data_2)\n",
    "\n",
    "for cell in mesoderm_celltype:\n",
    "    cell_adata = adata[adata.obs['celltype'] == cell]\n",
    "    random_index = np.random.choice(np.arange(0,np.shape(cell_adata)[0]),250)\n",
    "    cell_adata = cell_adata[random_index]\n",
    "    mesoderm_adata = mesoderm_adata.concatenate(cell_adata)"
   ]
  },
  {
   "cell_type": "code",
   "execution_count": 17,
   "id": "c5608392",
   "metadata": {},
   "outputs": [],
   "source": [
    "ectoderm_adata.obs[\"data\"] = (np.logical_not((ectoderm_adata.obs[\"celltype\"] == 'Rostral neurectoderm') | (ectoderm_adata.obs[\"celltype\"] == 'Caudal neurectoderm'))).astype('uint8') \n",
    "mesoderm_adata.obs[\"data\"] = (np.logical_not((mesoderm_adata.obs[\"celltype\"] == 'Mixed mesoderm') | (mesoderm_adata.obs[\"celltype\"] == 'Nascent mesoderm'))).astype('uint8') "
   ]
  },
  {
   "cell_type": "code",
   "execution_count": 18,
   "id": "3d67cc1d",
   "metadata": {},
   "outputs": [],
   "source": [
    "ectoderm_adata.obs[\"lineage\"] = \"ecto\"\n",
    "mesoderm_adata.obs[\"lineage\"] = \"meso\""
   ]
  },
  {
   "cell_type": "code",
   "execution_count": 19,
   "id": "a7b455fa",
   "metadata": {},
   "outputs": [
    {
     "name": "stderr",
     "output_type": "stream",
     "text": [
      "/home/gaurav/anaconda3/envs/project/lib/python3.10/site-packages/anndata/_core/anndata.py:1828: UserWarning: Observation names are not unique. To make them unique, call `.obs_names_make_unique`.\n",
      "  utils.warn_names_duplicates(\"obs\")\n",
      "/home/gaurav/anaconda3/envs/project/lib/python3.10/site-packages/anndata/_core/anndata.py:1785: FutureWarning: X.dtype being converted to np.float32 from float64. In the next version of anndata (0.9) conversion will not be automatic. Pass dtype explicitly to avoid this warning. Pass `AnnData(X, dtype=X.dtype, ...)` to get the future behavour.\n",
      "  [AnnData(sparse.csr_matrix(a.shape), obs=a.obs) for a in all_adatas],\n",
      "/home/gaurav/anaconda3/envs/project/lib/python3.10/site-packages/anndata/_core/anndata.py:1828: UserWarning: Observation names are not unique. To make them unique, call `.obs_names_make_unique`.\n",
      "  utils.warn_names_duplicates(\"obs\")\n"
     ]
    }
   ],
   "source": [
    "Adata_subset = ectoderm_adata.concatenate(mesoderm_adata)"
   ]
  },
  {
   "cell_type": "code",
   "execution_count": 22,
   "id": "085fb11e",
   "metadata": {},
   "outputs": [],
   "source": [
    "Adata_subset.obs[\"endo_trajectoryName\"]=0\n",
    "Adata_subset.obs[\"endo_gutCluster\"]=0"
   ]
  },
  {
   "cell_type": "code",
   "execution_count": 23,
   "id": "c51a985b",
   "metadata": {},
   "outputs": [],
   "source": [
    "Adata_subset.write_h5ad(\"/home/gaurav/Gaurav/Berlin/Paper/Pijuan_sala_data/unstructured_data/Adata_mouse_subset.h5ad\")"
   ]
  },
  {
   "cell_type": "code",
   "execution_count": 27,
   "id": "65cbd3ee",
   "metadata": {},
   "outputs": [],
   "source": [
    "zebra_obj = deep_predictor.DeepPredictor(mesoderm_adata,latent_dim=100,hidden_layers=[800,800],workers=8,parameters=[0,0,1,0,1],likelihood=\"nb\",batch_size=100)"
   ]
  },
  {
   "cell_type": "code",
   "execution_count": 28,
   "id": "a0f90a1c",
   "metadata": {
    "scrolled": true
   },
   "outputs": [
    {
     "name": "stderr",
     "output_type": "stream",
     "text": [
      "GPU available: False, used: False\n",
      "TPU available: False, using: 0 TPU cores\n",
      "IPU available: False, using: 0 IPUs\n",
      "HPU available: False, using: 0 HPUs\n",
      "\n",
      "  | Name  | Type     | Params\n",
      "-----------------------------------\n",
      "0 | model | VAEmodel | 26.3 M\n",
      "-----------------------------------\n",
      "26.3 M    Trainable params\n",
      "0         Non-trainable params\n",
      "26.3 M    Total params\n",
      "105.340   Total estimated model params size (MB)\n"
     ]
    },
    {
     "data": {
      "application/json": {
       "ascii": false,
       "bar_format": null,
       "colour": null,
       "elapsed": 0.01250600814819336,
       "initial": 0,
       "n": 0,
       "ncols": null,
       "nrows": null,
       "postfix": null,
       "prefix": "Training",
       "rate": null,
       "total": null,
       "unit": "it",
       "unit_divisor": 1000,
       "unit_scale": false
      },
      "application/vnd.jupyter.widget-view+json": {
       "model_id": "77900a57c44b49ef8513e94476a8d29c",
       "version_major": 2,
       "version_minor": 0
      },
      "text/plain": [
       "Training: 0it [00:00, ?it/s]"
      ]
     },
     "metadata": {},
     "output_type": "display_data"
    },
    {
     "name": "stderr",
     "output_type": "stream",
     "text": [
      "`Trainer.fit` stopped: `max_epochs=150` reached.\n"
     ]
    }
   ],
   "source": [
    "zebra_obj.train(epochs=150)"
   ]
  },
  {
   "cell_type": "code",
   "execution_count": 29,
   "id": "bc711d7a",
   "metadata": {},
   "outputs": [],
   "source": [
    "zebra_obj.save_model(path=\"/home/gaurav/Gaurav/Berlin/Paper/Pijuan_sala_data/unstructured_data/models/Mesoderm_trained_unstruct_1.pt\")"
   ]
  },
  {
   "cell_type": "code",
   "execution_count": null,
   "id": "511bcf24",
   "metadata": {},
   "outputs": [],
   "source": []
  },
  {
   "cell_type": "code",
   "execution_count": null,
   "id": "c6667fc0",
   "metadata": {},
   "outputs": [],
   "source": []
  },
  {
   "cell_type": "code",
   "execution_count": null,
   "id": "68edbb5c",
   "metadata": {},
   "outputs": [],
   "source": []
  }
 ],
 "metadata": {
  "kernelspec": {
   "display_name": "Python 3 (ipykernel)",
   "language": "python",
   "name": "python3"
  },
  "language_info": {
   "codemirror_mode": {
    "name": "ipython",
    "version": 3
   },
   "file_extension": ".py",
   "mimetype": "text/x-python",
   "name": "python",
   "nbconvert_exporter": "python",
   "pygments_lexer": "ipython3",
   "version": "3.10.4"
  }
 },
 "nbformat": 4,
 "nbformat_minor": 5
}

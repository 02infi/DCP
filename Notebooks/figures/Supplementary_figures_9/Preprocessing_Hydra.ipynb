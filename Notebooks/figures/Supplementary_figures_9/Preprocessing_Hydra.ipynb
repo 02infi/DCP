{
 "cells": [
  {
   "cell_type": "code",
   "execution_count": 1,
   "metadata": {},
   "outputs": [
    {
     "name": "stderr",
     "output_type": "stream",
     "text": [
      "Global seed set to 0\n",
      "/home/gaurav/anaconda3/envs/project/lib/python3.10/site-packages/pytorch_lightning/utilities/warnings.py:53: LightningDeprecationWarning: pytorch_lightning.utilities.warnings.rank_zero_deprecation has been deprecated in v1.6 and will be removed in v1.8. Use the equivalent function from the pytorch_lightning.utilities.rank_zero module instead.\n",
      "  new_rank_zero_deprecation(\n",
      "/home/gaurav/anaconda3/envs/project/lib/python3.10/site-packages/pytorch_lightning/utilities/warnings.py:58: LightningDeprecationWarning: The `pytorch_lightning.loggers.base.rank_zero_experiment` is deprecated in v1.7 and will be removed in v1.9. Please use `pytorch_lightning.loggers.logger.rank_zero_experiment` instead.\n",
      "  return new_rank_zero_deprecation(*args, **kwargs)\n"
     ]
    }
   ],
   "source": [
    "import deep_predictor\n",
    "from collections.abc import Mapping\n",
    "import torch\n",
    "import scanpy as sc\n",
    "import numpy as np\n",
    "import pandas as pd"
   ]
  },
  {
   "cell_type": "markdown",
   "metadata": {},
   "source": [
    "## Ectoderm"
   ]
  },
  {
   "cell_type": "code",
   "execution_count": 38,
   "metadata": {},
   "outputs": [],
   "source": [
    "adata_ecto_data = sc.read_csv(\"/home/gaurav/Gaurav/Berlin/Thesis/Paper/Hydra/Data/Ectoderm/hydra_ecto_URD_tree_data.csv\")\n",
    "adata_ecto_data = adata_ecto_data.transpose()"
   ]
  },
  {
   "cell_type": "code",
   "execution_count": 39,
   "metadata": {},
   "outputs": [],
   "source": [
    "meta_ecto_data = pd.read_csv(\"/home/gaurav/Gaurav/Berlin/Thesis/Paper/Hydra/Data/Ectoderm/hydra_ecto_URD_meta.csv\",sep=',')"
   ]
  },
  {
   "cell_type": "code",
   "execution_count": 41,
   "metadata": {},
   "outputs": [],
   "source": [
    "adata_ecto_data.obs = meta_ecto_data"
   ]
  },
  {
   "cell_type": "code",
   "execution_count": 62,
   "metadata": {},
   "outputs": [],
   "source": [
    "adata_ecto_data.write_h5ad(\"/home/gaurav/Gaurav/Berlin/Thesis/Paper/Hydra/Data/Ectoderm/adata_ecto_data.h5ad\")"
   ]
  },
  {
   "cell_type": "markdown",
   "metadata": {},
   "source": [
    "## Endoderm"
   ]
  },
  {
   "cell_type": "code",
   "execution_count": 64,
   "metadata": {},
   "outputs": [],
   "source": [
    "adata_endo_data = sc.read_csv(\"/home/gaurav/Gaurav/Berlin/Thesis/Paper/Hydra/Data/Endoderm/hydra_endo_URD_tree_data.csv\")\n",
    "adata_endo_data = adata_endo_data.transpose()"
   ]
  },
  {
   "cell_type": "code",
   "execution_count": 65,
   "metadata": {},
   "outputs": [],
   "source": [
    "meta_endo_data = pd.read_csv(\"/home/gaurav/Gaurav/Berlin/Thesis/Paper/Hydra/Data/Endoderm/hydra_endo_URD_meta.csv\",sep=',')\n",
    "adata_endo_data.obs = meta_endo_data"
   ]
  },
  {
   "cell_type": "code",
   "execution_count": 66,
   "metadata": {},
   "outputs": [],
   "source": [
    "adata_endo_data.write_h5ad(\"/home/gaurav/Gaurav/Berlin/Thesis/Paper/Hydra/Data/Endoderm/adata_endo_data.h5ad\")"
   ]
  },
  {
   "cell_type": "markdown",
   "metadata": {},
   "source": [
    "## Interstitial"
   ]
  },
  {
   "cell_type": "code",
   "execution_count": 2,
   "metadata": {},
   "outputs": [],
   "source": [
    "adata_ic_data = sc.read_csv(\"/home/gaurav/Gaurav/Berlin/Thesis/Paper/Hydra/Data/IC/hydra_IC_URD_tree_data.csv\")\n",
    "adata_ic_data = adata_ic_data.transpose()"
   ]
  },
  {
   "cell_type": "code",
   "execution_count": 3,
   "metadata": {},
   "outputs": [],
   "source": [
    "meta_ic_data = pd.read_csv(\"/home/gaurav/Gaurav/Berlin/Thesis/Paper/Hydra/Data/IC/hydra_IC_URD_meta.csv\",sep=',')\n",
    "adata_ic_data.obs = meta_ic_data"
   ]
  },
  {
   "cell_type": "code",
   "execution_count": 4,
   "metadata": {},
   "outputs": [],
   "source": [
    "adata_ic_data.write_h5ad(\"/home/gaurav/Gaurav/Berlin/Thesis/Paper/Hydra/Data/IC/adata_ic_data.h5ad\")"
   ]
  },
  {
   "cell_type": "code",
   "execution_count": null,
   "metadata": {},
   "outputs": [],
   "source": []
  }
 ],
 "metadata": {
  "kernelspec": {
   "display_name": "Python 3 (ipykernel)",
   "language": "python",
   "name": "python3"
  },
  "language_info": {
   "codemirror_mode": {
    "name": "ipython",
    "version": 3
   },
   "file_extension": ".py",
   "mimetype": "text/x-python",
   "name": "python",
   "nbconvert_exporter": "python",
   "pygments_lexer": "ipython3",
   "version": "3.10.4"
  }
 },
 "nbformat": 4,
 "nbformat_minor": 4
}

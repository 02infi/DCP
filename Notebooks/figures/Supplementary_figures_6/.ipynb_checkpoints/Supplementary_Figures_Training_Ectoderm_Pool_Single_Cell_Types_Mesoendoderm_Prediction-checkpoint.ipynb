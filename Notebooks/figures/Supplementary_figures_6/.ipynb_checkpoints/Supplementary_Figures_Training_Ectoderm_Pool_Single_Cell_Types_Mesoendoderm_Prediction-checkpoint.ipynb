{
 "cells": [
  {
   "cell_type": "code",
   "execution_count": 1,
   "id": "f129eaa9",
   "metadata": {},
   "outputs": [
    {
     "name": "stderr",
     "output_type": "stream",
     "text": [
      "Global seed set to 0\n",
      "/home/gaurav/anaconda3/envs/project/lib/python3.10/site-packages/pytorch_lightning/utilities/warnings.py:53: LightningDeprecationWarning: pytorch_lightning.utilities.warnings.rank_zero_deprecation has been deprecated in v1.6 and will be removed in v1.8. Use the equivalent function from the pytorch_lightning.utilities.rank_zero module instead.\n",
      "  new_rank_zero_deprecation(\n",
      "/home/gaurav/anaconda3/envs/project/lib/python3.10/site-packages/pytorch_lightning/utilities/warnings.py:58: LightningDeprecationWarning: The `pytorch_lightning.loggers.base.rank_zero_experiment` is deprecated in v1.7 and will be removed in v1.9. Please use `pytorch_lightning.loggers.logger.rank_zero_experiment` instead.\n",
      "  return new_rank_zero_deprecation(*args, **kwargs)\n"
     ]
    }
   ],
   "source": [
    "import deep_predictor\n",
    "from collections.abc import Mapping\n",
    "import torch\n",
    "import scanpy as sc\n",
    "import numpy as np\n",
    "import pandas as pd"
   ]
  },
  {
   "cell_type": "code",
   "execution_count": 2,
   "id": "54c3b562",
   "metadata": {},
   "outputs": [],
   "source": [
    "import scipy.stats as ss\n",
    "import numpy as np\n",
    "import scipy.stats as ss\n",
    "sc.set_figure_params(dpi=250, color_map='viridis')  # low dpi (dots per inch) yields small inline figures\n",
    "import pandas as pd"
   ]
  },
  {
   "cell_type": "code",
   "execution_count": 3,
   "id": "ab534869",
   "metadata": {},
   "outputs": [],
   "source": [
    "adata = sc.read(\"/home/gaurav/Gaurav/Berlin/Deep_Learning/Experiment/PCA_UMAP/VAE_models/VAE_models/normalised_model/farrel_normalised.h5ad\")\n",
    "annotations = pd.read_csv(\"/home/gaurav/Gaurav/Berlin/Deep_Learning/Experiment/PCA_UMAP/VAE_models/VAE_models/normalised_model/cell_metadata.csv\",index_col = [\"Unnamed: 0\"])\n",
    "adata.obs[\"Annotations\"] = annotations[\"Annotations\"]"
   ]
  },
  {
   "cell_type": "markdown",
   "id": "1b3082d6",
   "metadata": {},
   "source": [
    "# Pool Prediction "
   ]
  },
  {
   "cell_type": "code",
   "execution_count": 5,
   "id": "272ae41e",
   "metadata": {},
   "outputs": [],
   "source": [
    "## Training on Ectoderm and Predict/Test on Mesoendoderm\n",
    "## Ectoderm data : Starting segment - 72 , Terminal segment - 8,56,57 \n"
   ]
  },
  {
   "cell_type": "code",
   "execution_count": 6,
   "id": "e0437320",
   "metadata": {},
   "outputs": [],
   "source": [
    "# Starting data \n",
    "progenitors_data = adata[adata.obs['segment'] == 72]\n",
    "progenitors_data = progenitors_data[progenitors_data.obs['HPF'] == 5.3]\n",
    "\n",
    "# Downsampling Starting data\n",
    "random_index = np.random.choice(np.arange(0,np.shape(progenitors_data)[0]),1500)\n",
    "downsampled_proge_data = progenitors_data[random_index]"
   ]
  },
  {
   "cell_type": "code",
   "execution_count": 7,
   "id": "0dc93ca9",
   "metadata": {},
   "outputs": [
    {
     "name": "stderr",
     "output_type": "stream",
     "text": [
      "/home/gaurav/anaconda3/envs/project/lib/python3.10/site-packages/anndata/_core/anndata.py:1828: UserWarning: Observation names are not unique. To make them unique, call `.obs_names_make_unique`.\n",
      "  utils.warn_names_duplicates(\"obs\")\n",
      "/home/gaurav/anaconda3/envs/project/lib/python3.10/site-packages/anndata/_core/anndata.py:1785: FutureWarning: X.dtype being converted to np.float32 from float64. In the next version of anndata (0.9) conversion will not be automatic. Pass dtype explicitly to avoid this warning. Pass `AnnData(X, dtype=X.dtype, ...)` to get the future behavour.\n",
      "  [AnnData(sparse.csr_matrix(a.shape), obs=a.obs) for a in all_adatas],\n",
      "/home/gaurav/anaconda3/envs/project/lib/python3.10/site-packages/anndata/_core/anndata.py:1828: UserWarning: Observation names are not unique. To make them unique, call `.obs_names_make_unique`.\n",
      "  utils.warn_names_duplicates(\"obs\")\n",
      "/home/gaurav/anaconda3/envs/project/lib/python3.10/site-packages/anndata/_core/anndata.py:1828: UserWarning: Observation names are not unique. To make them unique, call `.obs_names_make_unique`.\n",
      "  utils.warn_names_duplicates(\"obs\")\n",
      "/home/gaurav/anaconda3/envs/project/lib/python3.10/site-packages/anndata/_core/anndata.py:1785: FutureWarning: X.dtype being converted to np.float32 from float64. In the next version of anndata (0.9) conversion will not be automatic. Pass dtype explicitly to avoid this warning. Pass `AnnData(X, dtype=X.dtype, ...)` to get the future behavour.\n",
      "  [AnnData(sparse.csr_matrix(a.shape), obs=a.obs) for a in all_adatas],\n",
      "/home/gaurav/anaconda3/envs/project/lib/python3.10/site-packages/anndata/_core/anndata.py:1828: UserWarning: Observation names are not unique. To make them unique, call `.obs_names_make_unique`.\n",
      "  utils.warn_names_duplicates(\"obs\")\n"
     ]
    }
   ],
   "source": [
    "segments = [8,56]\n",
    "maturecell_data = adata[adata.obs['segment'] == 57]\n",
    "maturecell_data = maturecell_data[maturecell_data.obs['HPF'] == 12]\n",
    "random_index = np.random.choice(np.arange(0,np.shape(maturecell_data)[0]),500)\n",
    "maturecell_data = maturecell_data[random_index]\n",
    "for segment in segments:\n",
    "    segment_data = adata[adata.obs['segment'] == segment]\n",
    "    segment_data = segment_data[segment_data.obs['HPF'] == 12]\n",
    "    random_index = np.random.choice(np.arange(0,np.shape(segment_data)[0]),500)\n",
    "    segment_data = segment_data[random_index]\n",
    "    maturecell_data = maturecell_data.concatenate(segment_data)"
   ]
  },
  {
   "cell_type": "code",
   "execution_count": 8,
   "id": "a5a9269a",
   "metadata": {},
   "outputs": [
    {
     "name": "stderr",
     "output_type": "stream",
     "text": [
      "/home/gaurav/anaconda3/envs/project/lib/python3.10/site-packages/anndata/_core/anndata.py:1828: UserWarning: Observation names are not unique. To make them unique, call `.obs_names_make_unique`.\n",
      "  utils.warn_names_duplicates(\"obs\")\n",
      "/home/gaurav/anaconda3/envs/project/lib/python3.10/site-packages/anndata/_core/anndata.py:1785: FutureWarning: X.dtype being converted to np.float32 from float64. In the next version of anndata (0.9) conversion will not be automatic. Pass dtype explicitly to avoid this warning. Pass `AnnData(X, dtype=X.dtype, ...)` to get the future behavour.\n",
      "  [AnnData(sparse.csr_matrix(a.shape), obs=a.obs) for a in all_adatas],\n",
      "/home/gaurav/anaconda3/envs/project/lib/python3.10/site-packages/anndata/_core/anndata.py:1828: UserWarning: Observation names are not unique. To make them unique, call `.obs_names_make_unique`.\n",
      "  utils.warn_names_duplicates(\"obs\")\n"
     ]
    }
   ],
   "source": [
    "training_data = downsampled_proge_data.concatenate(maturecell_data)\n",
    "training_data.obs[\"cells\"] = \"Training data\""
   ]
  },
  {
   "cell_type": "code",
   "execution_count": 9,
   "id": "aeff80a3",
   "metadata": {},
   "outputs": [
    {
     "name": "stderr",
     "output_type": "stream",
     "text": [
      "/home/gaurav/anaconda3/envs/project/lib/python3.10/site-packages/torch/cuda/__init__.py:82: UserWarning: CUDA initialization: The NVIDIA driver on your system is too old (found version 10010). Please update your GPU driver by downloading and installing a new version from the URL: http://www.nvidia.com/Download/index.aspx Alternatively, go to: https://pytorch.org to install a PyTorch version that has been compiled with your version of the CUDA driver. (Triggered internally at  /opt/conda/conda-bld/pytorch_1646755853668/work/c10/cuda/CUDAFunctions.cpp:112.)\n",
      "  return torch._C._cuda_getDeviceCount() > 0\n"
     ]
    }
   ],
   "source": [
    "zebra_obj = deep_predictor.DeepPredictor(training_data,latent_dim=100,hidden_layers=[800,800],workers=8,parameters=[0,0,0,1,1],likelihood=\"nb\",batch_size=100)"
   ]
  },
  {
   "cell_type": "code",
   "execution_count": 10,
   "id": "a1854861",
   "metadata": {},
   "outputs": [
    {
     "name": "stderr",
     "output_type": "stream",
     "text": [
      "GPU available: False, used: False\n",
      "TPU available: False, using: 0 TPU cores\n",
      "IPU available: False, using: 0 IPUs\n",
      "HPU available: False, using: 0 HPUs\n",
      "\n",
      "  | Name  | Type     | Params\n",
      "-----------------------------------\n",
      "0 | model | VAEmodel | 29.1 M\n",
      "-----------------------------------\n",
      "29.1 M    Trainable params\n",
      "0         Non-trainable params\n",
      "29.1 M    Total params\n",
      "116.567   Total estimated model params size (MB)\n",
      "/home/gaurav/anaconda3/envs/project/lib/python3.10/site-packages/pytorch_lightning/trainer/trainer.py:1892: PossibleUserWarning: The number of training batches (30) is smaller than the logging interval Trainer(log_every_n_steps=50). Set a lower value for log_every_n_steps if you want to see logs for the training epoch.\n",
      "  rank_zero_warn(\n"
     ]
    },
    {
     "data": {
      "application/json": {
       "ascii": false,
       "bar_format": null,
       "colour": null,
       "elapsed": 0.01871204376220703,
       "initial": 0,
       "n": 0,
       "ncols": null,
       "nrows": null,
       "postfix": null,
       "prefix": "Training",
       "rate": null,
       "total": null,
       "unit": "it",
       "unit_divisor": 1000,
       "unit_scale": false
      },
      "application/vnd.jupyter.widget-view+json": {
       "model_id": "f54f8ef9acd04ca9ba7011f4074f74d9",
       "version_major": 2,
       "version_minor": 0
      },
      "text/plain": [
       "Training: 0it [00:00, ?it/s]"
      ]
     },
     "metadata": {},
     "output_type": "display_data"
    },
    {
     "name": "stderr",
     "output_type": "stream",
     "text": [
      "`Trainer.fit` stopped: `max_epochs=100` reached.\n"
     ]
    }
   ],
   "source": [
    "#zebra_obj.train(epochs=100)"
   ]
  },
  {
   "cell_type": "code",
   "execution_count": 11,
   "id": "d83e245e",
   "metadata": {},
   "outputs": [],
   "source": [
    "#zebra_obj.save_model(path=\"/home/gaurav/Gaurav/Berlin/Paper/Models_single_vs_pool/Trained_on_ectoderm_predict_mesoderm/Pool_ecto.pt\")"
   ]
  },
  {
   "cell_type": "markdown",
   "id": "888fca4e",
   "metadata": {},
   "source": [
    "# Single-type Prediction "
   ]
  },
  {
   "cell_type": "code",
   "execution_count": 12,
   "id": "e2946b35",
   "metadata": {},
   "outputs": [],
   "source": [
    "## Training on Ectoderm and Predict/Test on Mesoendoderm\n",
    "## Ectoderm data : Starting segment - 72 , Terminal segment - 8,56,57 \n"
   ]
  },
  {
   "cell_type": "code",
   "execution_count": 13,
   "id": "ac13ffe2",
   "metadata": {},
   "outputs": [
    {
     "name": "stderr",
     "output_type": "stream",
     "text": [
      "/home/gaurav/anaconda3/envs/project/lib/python3.10/site-packages/anndata/_core/anndata.py:1828: UserWarning: Observation names are not unique. To make them unique, call `.obs_names_make_unique`.\n",
      "  utils.warn_names_duplicates(\"obs\")\n",
      "/home/gaurav/anaconda3/envs/project/lib/python3.10/site-packages/anndata/_core/anndata.py:1785: FutureWarning: X.dtype being converted to np.float32 from float64. In the next version of anndata (0.9) conversion will not be automatic. Pass dtype explicitly to avoid this warning. Pass `AnnData(X, dtype=X.dtype, ...)` to get the future behavour.\n",
      "  [AnnData(sparse.csr_matrix(a.shape), obs=a.obs) for a in all_adatas],\n",
      "/home/gaurav/anaconda3/envs/project/lib/python3.10/site-packages/anndata/_core/anndata.py:1828: UserWarning: Observation names are not unique. To make them unique, call `.obs_names_make_unique`.\n",
      "  utils.warn_names_duplicates(\"obs\")\n"
     ]
    }
   ],
   "source": [
    "# Starting data \n",
    "progenitors_data = adata[adata.obs['segment'] == 72]\n",
    "progenitors_data = progenitors_data[progenitors_data.obs['HPF'] == 5.3]\n",
    "\n",
    "# Downsampling Starting data\n",
    "random_index = np.random.choice(np.arange(0,np.shape(progenitors_data)[0]),500)\n",
    "downsampled_proge_data = progenitors_data[random_index]\n",
    "\n",
    "# Terminal data\n",
    "segments = [8,56]\n",
    "maturecell_data = adata[adata.obs['segment'] == 8]\n",
    "maturecell_data = maturecell_data[maturecell_data.obs['HPF'] == 12]\n",
    "random_index = np.random.choice(np.arange(0,np.shape(maturecell_data)[0]),500)\n",
    "maturecell_data = maturecell_data[random_index]\n",
    "\n",
    "training_data = downsampled_proge_data.concatenate(maturecell_data)\n",
    "training_data.obs[\"cells\"] = \"Training data\""
   ]
  },
  {
   "cell_type": "code",
   "execution_count": 14,
   "id": "c2025a38",
   "metadata": {},
   "outputs": [
    {
     "name": "stderr",
     "output_type": "stream",
     "text": [
      "GPU available: False, used: False\n",
      "TPU available: False, using: 0 TPU cores\n",
      "IPU available: False, using: 0 IPUs\n",
      "HPU available: False, using: 0 HPUs\n",
      "\n",
      "  | Name  | Type     | Params\n",
      "-----------------------------------\n",
      "0 | model | VAEmodel | 29.1 M\n",
      "-----------------------------------\n",
      "29.1 M    Trainable params\n",
      "0         Non-trainable params\n",
      "29.1 M    Total params\n",
      "116.567   Total estimated model params size (MB)\n",
      "/home/gaurav/anaconda3/envs/project/lib/python3.10/site-packages/pytorch_lightning/trainer/trainer.py:1892: PossibleUserWarning: The number of training batches (10) is smaller than the logging interval Trainer(log_every_n_steps=50). Set a lower value for log_every_n_steps if you want to see logs for the training epoch.\n",
      "  rank_zero_warn(\n"
     ]
    },
    {
     "data": {
      "application/json": {
       "ascii": false,
       "bar_format": null,
       "colour": null,
       "elapsed": 0.017522335052490234,
       "initial": 0,
       "n": 0,
       "ncols": null,
       "nrows": null,
       "postfix": null,
       "prefix": "Training",
       "rate": null,
       "total": null,
       "unit": "it",
       "unit_divisor": 1000,
       "unit_scale": false
      },
      "application/vnd.jupyter.widget-view+json": {
       "model_id": "27ae344d02f8401b82e11c8c9abed94c",
       "version_major": 2,
       "version_minor": 0
      },
      "text/plain": [
       "Training: 0it [00:00, ?it/s]"
      ]
     },
     "metadata": {},
     "output_type": "display_data"
    },
    {
     "name": "stderr",
     "output_type": "stream",
     "text": [
      "`Trainer.fit` stopped: `max_epochs=100` reached.\n"
     ]
    }
   ],
   "source": [
    "zebra_obj_72_8 = deep_predictor.DeepPredictor(training_data,latent_dim=100,hidden_layers=[800,800],workers=8,parameters=[0,0,0,1,1],likelihood=\"nb\",batch_size=100)\n",
    "#zebra_obj_72_8.train(epochs=100)"
   ]
  },
  {
   "cell_type": "code",
   "execution_count": 15,
   "id": "dcecb1e4",
   "metadata": {},
   "outputs": [],
   "source": [
    "#zebra_obj_72_8.save_model(path=\"/home/gaurav/Gaurav/Berlin/Paper/Models_single_vs_pool/Trained_on_ectoderm_predict_mesoderm/Single_type_72_8.pt\")"
   ]
  },
  {
   "cell_type": "code",
   "execution_count": null,
   "id": "2773ea2b",
   "metadata": {},
   "outputs": [],
   "source": []
  },
  {
   "cell_type": "code",
   "execution_count": 16,
   "id": "f70c9154",
   "metadata": {},
   "outputs": [
    {
     "name": "stderr",
     "output_type": "stream",
     "text": [
      "/home/gaurav/anaconda3/envs/project/lib/python3.10/site-packages/anndata/_core/anndata.py:1828: UserWarning: Observation names are not unique. To make them unique, call `.obs_names_make_unique`.\n",
      "  utils.warn_names_duplicates(\"obs\")\n",
      "/home/gaurav/anaconda3/envs/project/lib/python3.10/site-packages/anndata/_core/anndata.py:1785: FutureWarning: X.dtype being converted to np.float32 from float64. In the next version of anndata (0.9) conversion will not be automatic. Pass dtype explicitly to avoid this warning. Pass `AnnData(X, dtype=X.dtype, ...)` to get the future behavour.\n",
      "  [AnnData(sparse.csr_matrix(a.shape), obs=a.obs) for a in all_adatas],\n",
      "/home/gaurav/anaconda3/envs/project/lib/python3.10/site-packages/anndata/_core/anndata.py:1828: UserWarning: Observation names are not unique. To make them unique, call `.obs_names_make_unique`.\n",
      "  utils.warn_names_duplicates(\"obs\")\n"
     ]
    }
   ],
   "source": [
    "# Starting data \n",
    "progenitors_data = adata[adata.obs['segment'] == 72]\n",
    "progenitors_data = progenitors_data[progenitors_data.obs['HPF'] == 5.3]\n",
    "\n",
    "# Downsampling Starting data\n",
    "random_index = np.random.choice(np.arange(0,np.shape(progenitors_data)[0]),500)\n",
    "downsampled_proge_data = progenitors_data[random_index]\n",
    "\n",
    "# Terminal data\n",
    "maturecell_data = adata[adata.obs['segment'] == 56]\n",
    "maturecell_data = maturecell_data[maturecell_data.obs['HPF'] == 12]\n",
    "random_index = np.random.choice(np.arange(0,np.shape(maturecell_data)[0]),500)\n",
    "maturecell_data = maturecell_data[random_index]\n",
    "\n",
    "training_data = downsampled_proge_data.concatenate(maturecell_data)\n",
    "training_data.obs[\"cells\"] = \"Training data\""
   ]
  },
  {
   "cell_type": "code",
   "execution_count": 17,
   "id": "c7754896",
   "metadata": {},
   "outputs": [
    {
     "name": "stderr",
     "output_type": "stream",
     "text": [
      "GPU available: False, used: False\n",
      "TPU available: False, using: 0 TPU cores\n",
      "IPU available: False, using: 0 IPUs\n",
      "HPU available: False, using: 0 HPUs\n",
      "\n",
      "  | Name  | Type     | Params\n",
      "-----------------------------------\n",
      "0 | model | VAEmodel | 29.1 M\n",
      "-----------------------------------\n",
      "29.1 M    Trainable params\n",
      "0         Non-trainable params\n",
      "29.1 M    Total params\n",
      "116.567   Total estimated model params size (MB)\n",
      "/home/gaurav/anaconda3/envs/project/lib/python3.10/site-packages/pytorch_lightning/trainer/trainer.py:1892: PossibleUserWarning: The number of training batches (10) is smaller than the logging interval Trainer(log_every_n_steps=50). Set a lower value for log_every_n_steps if you want to see logs for the training epoch.\n",
      "  rank_zero_warn(\n"
     ]
    },
    {
     "data": {
      "application/json": {
       "ascii": false,
       "bar_format": null,
       "colour": null,
       "elapsed": 0.013084173202514648,
       "initial": 0,
       "n": 0,
       "ncols": null,
       "nrows": null,
       "postfix": null,
       "prefix": "Training",
       "rate": null,
       "total": null,
       "unit": "it",
       "unit_divisor": 1000,
       "unit_scale": false
      },
      "application/vnd.jupyter.widget-view+json": {
       "model_id": "edfb9c3680744eb1a50f0cd693409dbf",
       "version_major": 2,
       "version_minor": 0
      },
      "text/plain": [
       "Training: 0it [00:00, ?it/s]"
      ]
     },
     "metadata": {},
     "output_type": "display_data"
    },
    {
     "name": "stderr",
     "output_type": "stream",
     "text": [
      "`Trainer.fit` stopped: `max_epochs=100` reached.\n"
     ]
    }
   ],
   "source": [
    "zebra_obj_72_56 = deep_predictor.DeepPredictor(training_data,latent_dim=100,hidden_layers=[800,800],workers=8,parameters=[0,0,0,1,1],likelihood=\"nb\",batch_size=100)\n",
    "zebra_obj_72_56.train(epochs=100)"
   ]
  },
  {
   "cell_type": "code",
   "execution_count": 18,
   "id": "d48ecdbf",
   "metadata": {},
   "outputs": [],
   "source": [
    "zebra_obj_72_56.save_model(path=\"/home/gaurav/Gaurav/Berlin/Paper/Models_single_vs_pool/Trained_on_ectoderm_predict_mesoderm/Single_type_72_56.pt\")"
   ]
  },
  {
   "cell_type": "code",
   "execution_count": null,
   "id": "f62a6efa",
   "metadata": {},
   "outputs": [],
   "source": []
  },
  {
   "cell_type": "code",
   "execution_count": 19,
   "id": "4e591f37",
   "metadata": {},
   "outputs": [
    {
     "name": "stderr",
     "output_type": "stream",
     "text": [
      "/home/gaurav/anaconda3/envs/project/lib/python3.10/site-packages/anndata/_core/anndata.py:1828: UserWarning: Observation names are not unique. To make them unique, call `.obs_names_make_unique`.\n",
      "  utils.warn_names_duplicates(\"obs\")\n",
      "/home/gaurav/anaconda3/envs/project/lib/python3.10/site-packages/anndata/_core/anndata.py:1785: FutureWarning: X.dtype being converted to np.float32 from float64. In the next version of anndata (0.9) conversion will not be automatic. Pass dtype explicitly to avoid this warning. Pass `AnnData(X, dtype=X.dtype, ...)` to get the future behavour.\n",
      "  [AnnData(sparse.csr_matrix(a.shape), obs=a.obs) for a in all_adatas],\n",
      "/home/gaurav/anaconda3/envs/project/lib/python3.10/site-packages/anndata/_core/anndata.py:1828: UserWarning: Observation names are not unique. To make them unique, call `.obs_names_make_unique`.\n",
      "  utils.warn_names_duplicates(\"obs\")\n"
     ]
    }
   ],
   "source": [
    "# Starting data \n",
    "progenitors_data = adata[adata.obs['segment'] == 72]\n",
    "progenitors_data = progenitors_data[progenitors_data.obs['HPF'] == 5.3]\n",
    "\n",
    "# Downsampling Starting data\n",
    "random_index = np.random.choice(np.arange(0,np.shape(progenitors_data)[0]),500)\n",
    "downsampled_proge_data = progenitors_data[random_index]\n",
    "\n",
    "# Terminal data\n",
    "maturecell_data = adata[adata.obs['segment'] == 57]\n",
    "maturecell_data = maturecell_data[maturecell_data.obs['HPF'] == 12]\n",
    "random_index = np.random.choice(np.arange(0,np.shape(maturecell_data)[0]),500)\n",
    "maturecell_data = maturecell_data[random_index]\n",
    "\n",
    "training_data = downsampled_proge_data.concatenate(maturecell_data)\n",
    "training_data.obs[\"cells\"] = \"Training data\""
   ]
  },
  {
   "cell_type": "code",
   "execution_count": 20,
   "id": "9a6357fc",
   "metadata": {},
   "outputs": [
    {
     "name": "stderr",
     "output_type": "stream",
     "text": [
      "GPU available: False, used: False\n",
      "TPU available: False, using: 0 TPU cores\n",
      "IPU available: False, using: 0 IPUs\n",
      "HPU available: False, using: 0 HPUs\n",
      "\n",
      "  | Name  | Type     | Params\n",
      "-----------------------------------\n",
      "0 | model | VAEmodel | 29.1 M\n",
      "-----------------------------------\n",
      "29.1 M    Trainable params\n",
      "0         Non-trainable params\n",
      "29.1 M    Total params\n",
      "116.567   Total estimated model params size (MB)\n",
      "/home/gaurav/anaconda3/envs/project/lib/python3.10/site-packages/pytorch_lightning/trainer/trainer.py:1892: PossibleUserWarning: The number of training batches (10) is smaller than the logging interval Trainer(log_every_n_steps=50). Set a lower value for log_every_n_steps if you want to see logs for the training epoch.\n",
      "  rank_zero_warn(\n"
     ]
    },
    {
     "data": {
      "application/json": {
       "ascii": false,
       "bar_format": null,
       "colour": null,
       "elapsed": 0.015453100204467773,
       "initial": 0,
       "n": 0,
       "ncols": null,
       "nrows": null,
       "postfix": null,
       "prefix": "Training",
       "rate": null,
       "total": null,
       "unit": "it",
       "unit_divisor": 1000,
       "unit_scale": false
      },
      "application/vnd.jupyter.widget-view+json": {
       "model_id": "ef9e4ab661b54203b25494f0fba91cae",
       "version_major": 2,
       "version_minor": 0
      },
      "text/plain": [
       "Training: 0it [00:00, ?it/s]"
      ]
     },
     "metadata": {},
     "output_type": "display_data"
    },
    {
     "name": "stderr",
     "output_type": "stream",
     "text": [
      "`Trainer.fit` stopped: `max_epochs=100` reached.\n"
     ]
    }
   ],
   "source": [
    "zebra_obj_72_57 = deep_predictor.DeepPredictor(training_data,latent_dim=100,hidden_layers=[800,800],workers=8,parameters=[0,0,0,1,1],likelihood=\"nb\",batch_size=100)\n",
    "zebra_obj_72_57.train(epochs=100)"
   ]
  },
  {
   "cell_type": "code",
   "execution_count": 22,
   "id": "ec83700d",
   "metadata": {},
   "outputs": [],
   "source": [
    "zebra_obj_72_57.save_model(path=\"/home/gaurav/Gaurav/Berlin/Paper/Models_single_vs_pool/Trained_on_ectoderm_predict_mesoderm/Single_type_72_57.pt\")"
   ]
  },
  {
   "cell_type": "code",
   "execution_count": null,
   "id": "1ab03f54",
   "metadata": {},
   "outputs": [],
   "source": []
  }
 ],
 "metadata": {
  "kernelspec": {
   "display_name": "Python 3 (ipykernel)",
   "language": "python",
   "name": "python3"
  },
  "language_info": {
   "codemirror_mode": {
    "name": "ipython",
    "version": 3
   },
   "file_extension": ".py",
   "mimetype": "text/x-python",
   "name": "python",
   "nbconvert_exporter": "python",
   "pygments_lexer": "ipython3",
   "version": "3.10.4"
  }
 },
 "nbformat": 4,
 "nbformat_minor": 5
}

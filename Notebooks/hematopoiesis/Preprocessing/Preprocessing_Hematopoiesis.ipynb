{
 "cells": [
  {
   "cell_type": "code",
   "execution_count": 1,
   "id": "f3099a98",
   "metadata": {},
   "outputs": [
    {
     "name": "stderr",
     "output_type": "stream",
     "text": [
      "Global seed set to 0\n",
      "/home/gaurav/anaconda3/envs/project/lib/python3.10/site-packages/pytorch_lightning/utilities/warnings.py:53: LightningDeprecationWarning: pytorch_lightning.utilities.warnings.rank_zero_deprecation has been deprecated in v1.6 and will be removed in v1.8. Use the equivalent function from the pytorch_lightning.utilities.rank_zero module instead.\n",
      "  new_rank_zero_deprecation(\n",
      "/home/gaurav/anaconda3/envs/project/lib/python3.10/site-packages/pytorch_lightning/utilities/warnings.py:58: LightningDeprecationWarning: The `pytorch_lightning.loggers.base.rank_zero_experiment` is deprecated in v1.7 and will be removed in v1.9. Please use `pytorch_lightning.loggers.logger.rank_zero_experiment` instead.\n",
      "  return new_rank_zero_deprecation(*args, **kwargs)\n"
     ]
    }
   ],
   "source": [
    "import deep_predictor\n",
    "from collections.abc import Mapping\n",
    "import torch\n",
    "import scanpy as sc\n",
    "import numpy as np\n",
    "import pandas as pd"
   ]
  },
  {
   "cell_type": "code",
   "execution_count": 2,
   "id": "965a2f19",
   "metadata": {},
   "outputs": [],
   "source": [
    "adata = sc.read_h5ad(\"/home/gaurav/Gaurav/Berlin/Deep_Learning/pytorchVAE/Larry_data/Neutrophil_monocyte/larry_subset_Neutr_Mono.h5ad\")"
   ]
  },
  {
   "cell_type": "code",
   "execution_count": 3,
   "id": "3f36eb87",
   "metadata": {},
   "outputs": [],
   "source": [
    "adata_segment_22 = adata[adata.obs[\"segment\"] == 22] #Neutrophil\n",
    "adata_segment_25 = adata[adata.obs[\"segment\"] == 25] #Monocyte"
   ]
  },
  {
   "cell_type": "code",
   "execution_count": 5,
   "id": "11bcc815",
   "metadata": {},
   "outputs": [
    {
     "data": {
      "text/plain": [
       "pseudotime\n",
       "(0.0, 0.1]     788\n",
       "(0.1, 0.2]    1627\n",
       "(0.2, 0.3]    1112\n",
       "(0.3, 1.0]     800\n",
       "Name: pseudotime, dtype: int64"
      ]
     },
     "execution_count": 5,
     "metadata": {},
     "output_type": "execute_result"
    }
   ],
   "source": [
    "s = adata_segment_25.obs[\"pseudotime\"]\n",
    "ranges = [0,0.1,0.2,0.3,1]\n",
    "s.groupby(pd.cut(s, ranges)).count() "
   ]
  },
  {
   "cell_type": "code",
   "execution_count": 23,
   "id": "51ad7ce1",
   "metadata": {},
   "outputs": [
    {
     "data": {
      "text/plain": [
       "Neutrophil          3859\n",
       "Undifferentiated     454\n",
       "Monocyte              14\n",
       "Name: Cell.type.annotation, dtype: int64"
      ]
     },
     "execution_count": 23,
     "metadata": {},
     "output_type": "execute_result"
    }
   ],
   "source": [
    "adata_segment_25.obs[\"Cell.type.annotation\"].value_counts()"
   ]
  },
  {
   "cell_type": "code",
   "execution_count": 27,
   "id": "a411affe",
   "metadata": {},
   "outputs": [],
   "source": [
    "adata_segment_25_ = adata_segment_25[adata_segment_25.obs[\"Cell.type.annotation\"] != \"Monocyte\"]"
   ]
  },
  {
   "cell_type": "code",
   "execution_count": 28,
   "id": "f4d7eb5f",
   "metadata": {},
   "outputs": [
    {
     "data": {
      "text/plain": [
       "Neutrophil          3859\n",
       "Undifferentiated     454\n",
       "Name: Cell.type.annotation, dtype: int64"
      ]
     },
     "execution_count": 28,
     "metadata": {},
     "output_type": "execute_result"
    }
   ],
   "source": [
    "adata_segment_25_.obs[\"Cell.type.annotation\"].value_counts()"
   ]
  },
  {
   "cell_type": "code",
   "execution_count": 29,
   "id": "1cd5a478",
   "metadata": {},
   "outputs": [
    {
     "name": "stderr",
     "output_type": "stream",
     "text": [
      "/home/gaurav/anaconda3/envs/project/lib/python3.10/site-packages/anndata/_core/anndata.py:1785: FutureWarning: X.dtype being converted to np.float32 from float64. In the next version of anndata (0.9) conversion will not be automatic. Pass dtype explicitly to avoid this warning. Pass `AnnData(X, dtype=X.dtype, ...)` to get the future behavour.\n",
      "  [AnnData(sparse.csr_matrix(a.shape), obs=a.obs) for a in all_adatas],\n"
     ]
    }
   ],
   "source": [
    "adata_m = adata_segment_22.concatenate(adata_segment_25_)"
   ]
  },
  {
   "cell_type": "code",
   "execution_count": 30,
   "id": "e74fc95e",
   "metadata": {},
   "outputs": [
    {
     "data": {
      "text/plain": [
       "Neutrophil          3859\n",
       "Monocyte            3302\n",
       "Undifferentiated     681\n",
       "Name: Cell.type.annotation, dtype: int64"
      ]
     },
     "execution_count": 30,
     "metadata": {},
     "output_type": "execute_result"
    }
   ],
   "source": [
    "adata_m.obs[\"Cell.type.annotation\"].value_counts()"
   ]
  },
  {
   "cell_type": "code",
   "execution_count": 34,
   "id": "b8b4fae9",
   "metadata": {},
   "outputs": [],
   "source": [
    "adata_segment_22 = adata_m[adata_m.obs[\"segment\"] == 22]  #Monocyte\n",
    "adata_segment_25 = adata_m[adata_m.obs[\"segment\"] == 25] #Neutrophil"
   ]
  },
  {
   "cell_type": "code",
   "execution_count": 35,
   "id": "740f107f",
   "metadata": {},
   "outputs": [
    {
     "data": {
      "text/plain": [
       "Monocyte            3302\n",
       "Undifferentiated     227\n",
       "Name: Cell.type.annotation, dtype: int64"
      ]
     },
     "execution_count": 35,
     "metadata": {},
     "output_type": "execute_result"
    }
   ],
   "source": [
    "adata_segment_22.obs[\"Cell.type.annotation\"].value_counts()"
   ]
  },
  {
   "cell_type": "code",
   "execution_count": 36,
   "id": "56e5431c",
   "metadata": {},
   "outputs": [
    {
     "data": {
      "text/plain": [
       "Neutrophil          3859\n",
       "Undifferentiated     454\n",
       "Name: Cell.type.annotation, dtype: int64"
      ]
     },
     "execution_count": 36,
     "metadata": {},
     "output_type": "execute_result"
    }
   ],
   "source": [
    "adata_segment_25.obs[\"Cell.type.annotation\"].value_counts()"
   ]
  },
  {
   "cell_type": "code",
   "execution_count": 37,
   "id": "1205aab7",
   "metadata": {},
   "outputs": [],
   "source": [
    "adata_m.write_h5ad(\"/home/gaurav/Gaurav/Berlin/Deep_Learning/pytorchVAE/Larry_data/Neutrophil_monocyte/larry_hema_training_data.h5ad\")"
   ]
  },
  {
   "cell_type": "code",
   "execution_count": null,
   "id": "f2fcb089",
   "metadata": {},
   "outputs": [],
   "source": []
  }
 ],
 "metadata": {
  "kernelspec": {
   "display_name": "Python 3 (ipykernel)",
   "language": "python",
   "name": "python3"
  },
  "language_info": {
   "codemirror_mode": {
    "name": "ipython",
    "version": 3
   },
   "file_extension": ".py",
   "mimetype": "text/x-python",
   "name": "python",
   "nbconvert_exporter": "python",
   "pygments_lexer": "ipython3",
   "version": "3.10.4"
  }
 },
 "nbformat": 4,
 "nbformat_minor": 5
}

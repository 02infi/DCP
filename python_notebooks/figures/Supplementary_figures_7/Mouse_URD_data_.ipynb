{
 "cells": [
  {
   "cell_type": "code",
   "execution_count": 1,
   "id": "79e59764",
   "metadata": {},
   "outputs": [
    {
     "name": "stderr",
     "output_type": "stream",
     "text": [
      "Global seed set to 0\n",
      "/home/gaurav/anaconda3/envs/project/lib/python3.10/site-packages/pytorch_lightning/utilities/warnings.py:53: LightningDeprecationWarning: pytorch_lightning.utilities.warnings.rank_zero_deprecation has been deprecated in v1.6 and will be removed in v1.8. Use the equivalent function from the pytorch_lightning.utilities.rank_zero module instead.\n",
      "  new_rank_zero_deprecation(\n",
      "/home/gaurav/anaconda3/envs/project/lib/python3.10/site-packages/pytorch_lightning/utilities/warnings.py:58: LightningDeprecationWarning: The `pytorch_lightning.loggers.base.rank_zero_experiment` is deprecated in v1.7 and will be removed in v1.9. Please use `pytorch_lightning.loggers.logger.rank_zero_experiment` instead.\n",
      "  return new_rank_zero_deprecation(*args, **kwargs)\n"
     ]
    }
   ],
   "source": [
    "import deep_predictor\n",
    "from collections.abc import Mapping\n",
    "import torch\n",
    "import scanpy as sc"
   ]
  },
  {
   "cell_type": "code",
   "execution_count": 2,
   "id": "262cf023",
   "metadata": {},
   "outputs": [],
   "source": [
    "import numpy as np\n",
    "import pandas as pd"
   ]
  },
  {
   "cell_type": "code",
   "execution_count": 3,
   "id": "6855eb27",
   "metadata": {},
   "outputs": [],
   "source": [
    "adata = sc.read_h5ad(\"/home/gaurav/Gaurav/Berlin/Paper/Pijuan_sala_data/adata_segment_subset.h5ad\")"
   ]
  },
  {
   "cell_type": "code",
   "execution_count": 7,
   "id": "ba67c4ab",
   "metadata": {},
   "outputs": [],
   "source": [
    "Time = []\n",
    "for i in adata.obs[\"stage\"] :\n",
    "    Time.append(float(i.split(\"E\")[1]))"
   ]
  },
  {
   "cell_type": "code",
   "execution_count": 8,
   "id": "5f5697cb",
   "metadata": {},
   "outputs": [],
   "source": [
    "adata.obs[\"Time\"] = np.array(Time)"
   ]
  },
  {
   "cell_type": "code",
   "execution_count": 9,
   "id": "7fdae2e3",
   "metadata": {},
   "outputs": [],
   "source": [
    "Ectoderm = [27,30,31,32,33,40]\n",
    "Mesoderm = [13,15,16,19,14,35,36,41]"
   ]
  },
  {
   "cell_type": "code",
   "execution_count": 10,
   "id": "3bc66346",
   "metadata": {
    "scrolled": true
   },
   "outputs": [
    {
     "ename": "KeyError",
     "evalue": "'segment'",
     "output_type": "error",
     "traceback": [
      "\u001b[0;31m---------------------------------------------------------------------------\u001b[0m",
      "\u001b[0;31mKeyError\u001b[0m                                  Traceback (most recent call last)",
      "File \u001b[0;32m~/anaconda3/envs/project/lib/python3.10/site-packages/pandas/core/indexes/base.py:3621\u001b[0m, in \u001b[0;36mIndex.get_loc\u001b[0;34m(self, key, method, tolerance)\u001b[0m\n\u001b[1;32m   3620\u001b[0m \u001b[38;5;28;01mtry\u001b[39;00m:\n\u001b[0;32m-> 3621\u001b[0m     \u001b[38;5;28;01mreturn\u001b[39;00m \u001b[38;5;28;43mself\u001b[39;49m\u001b[38;5;241;43m.\u001b[39;49m\u001b[43m_engine\u001b[49m\u001b[38;5;241;43m.\u001b[39;49m\u001b[43mget_loc\u001b[49m\u001b[43m(\u001b[49m\u001b[43mcasted_key\u001b[49m\u001b[43m)\u001b[49m\n\u001b[1;32m   3622\u001b[0m \u001b[38;5;28;01mexcept\u001b[39;00m \u001b[38;5;167;01mKeyError\u001b[39;00m \u001b[38;5;28;01mas\u001b[39;00m err:\n",
      "File \u001b[0;32m~/anaconda3/envs/project/lib/python3.10/site-packages/pandas/_libs/index.pyx:136\u001b[0m, in \u001b[0;36mpandas._libs.index.IndexEngine.get_loc\u001b[0;34m()\u001b[0m\n",
      "File \u001b[0;32m~/anaconda3/envs/project/lib/python3.10/site-packages/pandas/_libs/index.pyx:163\u001b[0m, in \u001b[0;36mpandas._libs.index.IndexEngine.get_loc\u001b[0;34m()\u001b[0m\n",
      "File \u001b[0;32mpandas/_libs/hashtable_class_helper.pxi:5198\u001b[0m, in \u001b[0;36mpandas._libs.hashtable.PyObjectHashTable.get_item\u001b[0;34m()\u001b[0m\n",
      "File \u001b[0;32mpandas/_libs/hashtable_class_helper.pxi:5206\u001b[0m, in \u001b[0;36mpandas._libs.hashtable.PyObjectHashTable.get_item\u001b[0;34m()\u001b[0m\n",
      "\u001b[0;31mKeyError\u001b[0m: 'segment'",
      "\nThe above exception was the direct cause of the following exception:\n",
      "\u001b[0;31mKeyError\u001b[0m                                  Traceback (most recent call last)",
      "Input \u001b[0;32mIn [10]\u001b[0m, in \u001b[0;36m<cell line: 3>\u001b[0;34m()\u001b[0m\n\u001b[1;32m      1\u001b[0m \u001b[38;5;66;03m#Training Data\u001b[39;00m\n\u001b[1;32m      2\u001b[0m segments \u001b[38;5;241m=\u001b[39m [\u001b[38;5;241m27\u001b[39m,\u001b[38;5;241m30\u001b[39m,\u001b[38;5;241m31\u001b[39m,\u001b[38;5;241m32\u001b[39m,\u001b[38;5;241m33\u001b[39m]\n\u001b[0;32m----> 3\u001b[0m training_data_ecto \u001b[38;5;241m=\u001b[39m adata[\u001b[43madata\u001b[49m\u001b[38;5;241;43m.\u001b[39;49m\u001b[43mobs\u001b[49m\u001b[43m[\u001b[49m\u001b[38;5;124;43m'\u001b[39;49m\u001b[38;5;124;43msegment\u001b[39;49m\u001b[38;5;124;43m'\u001b[39;49m\u001b[43m]\u001b[49m \u001b[38;5;241m==\u001b[39m \u001b[38;5;241m40\u001b[39m]\n\u001b[1;32m      4\u001b[0m \u001b[38;5;28;01mfor\u001b[39;00m segment \u001b[38;5;129;01min\u001b[39;00m segments:\n\u001b[1;32m      5\u001b[0m     segment_data \u001b[38;5;241m=\u001b[39m adata[adata\u001b[38;5;241m.\u001b[39mobs[\u001b[38;5;124m'\u001b[39m\u001b[38;5;124msegment\u001b[39m\u001b[38;5;124m'\u001b[39m] \u001b[38;5;241m==\u001b[39m segment]\n",
      "File \u001b[0;32m~/anaconda3/envs/project/lib/python3.10/site-packages/pandas/core/frame.py:3505\u001b[0m, in \u001b[0;36mDataFrame.__getitem__\u001b[0;34m(self, key)\u001b[0m\n\u001b[1;32m   3503\u001b[0m \u001b[38;5;28;01mif\u001b[39;00m \u001b[38;5;28mself\u001b[39m\u001b[38;5;241m.\u001b[39mcolumns\u001b[38;5;241m.\u001b[39mnlevels \u001b[38;5;241m>\u001b[39m \u001b[38;5;241m1\u001b[39m:\n\u001b[1;32m   3504\u001b[0m     \u001b[38;5;28;01mreturn\u001b[39;00m \u001b[38;5;28mself\u001b[39m\u001b[38;5;241m.\u001b[39m_getitem_multilevel(key)\n\u001b[0;32m-> 3505\u001b[0m indexer \u001b[38;5;241m=\u001b[39m \u001b[38;5;28;43mself\u001b[39;49m\u001b[38;5;241;43m.\u001b[39;49m\u001b[43mcolumns\u001b[49m\u001b[38;5;241;43m.\u001b[39;49m\u001b[43mget_loc\u001b[49m\u001b[43m(\u001b[49m\u001b[43mkey\u001b[49m\u001b[43m)\u001b[49m\n\u001b[1;32m   3506\u001b[0m \u001b[38;5;28;01mif\u001b[39;00m is_integer(indexer):\n\u001b[1;32m   3507\u001b[0m     indexer \u001b[38;5;241m=\u001b[39m [indexer]\n",
      "File \u001b[0;32m~/anaconda3/envs/project/lib/python3.10/site-packages/pandas/core/indexes/base.py:3623\u001b[0m, in \u001b[0;36mIndex.get_loc\u001b[0;34m(self, key, method, tolerance)\u001b[0m\n\u001b[1;32m   3621\u001b[0m     \u001b[38;5;28;01mreturn\u001b[39;00m \u001b[38;5;28mself\u001b[39m\u001b[38;5;241m.\u001b[39m_engine\u001b[38;5;241m.\u001b[39mget_loc(casted_key)\n\u001b[1;32m   3622\u001b[0m \u001b[38;5;28;01mexcept\u001b[39;00m \u001b[38;5;167;01mKeyError\u001b[39;00m \u001b[38;5;28;01mas\u001b[39;00m err:\n\u001b[0;32m-> 3623\u001b[0m     \u001b[38;5;28;01mraise\u001b[39;00m \u001b[38;5;167;01mKeyError\u001b[39;00m(key) \u001b[38;5;28;01mfrom\u001b[39;00m \u001b[38;5;21;01merr\u001b[39;00m\n\u001b[1;32m   3624\u001b[0m \u001b[38;5;28;01mexcept\u001b[39;00m \u001b[38;5;167;01mTypeError\u001b[39;00m:\n\u001b[1;32m   3625\u001b[0m     \u001b[38;5;66;03m# If we have a listlike key, _check_indexing_error will raise\u001b[39;00m\n\u001b[1;32m   3626\u001b[0m     \u001b[38;5;66;03m#  InvalidIndexError. Otherwise we fall through and re-raise\u001b[39;00m\n\u001b[1;32m   3627\u001b[0m     \u001b[38;5;66;03m#  the TypeError.\u001b[39;00m\n\u001b[1;32m   3628\u001b[0m     \u001b[38;5;28mself\u001b[39m\u001b[38;5;241m.\u001b[39m_check_indexing_error(key)\n",
      "\u001b[0;31mKeyError\u001b[0m: 'segment'"
     ]
    }
   ],
   "source": [
    "#Training Data\n",
    "segments = [27,30,31,32,33]\n",
    "training_data_ecto = adata[adata.obs['segment'] == 40]\n",
    "for segment in segments:\n",
    "    segment_data = adata[adata.obs['segment'] == segment]\n",
    "    training_data_ecto = training_data_ecto.concatenate(segment_data)\n",
    "training_data_ecto.obs[\"cells\"] = \"Training data\""
   ]
  },
  {
   "cell_type": "code",
   "execution_count": null,
   "id": "57f7742b",
   "metadata": {
    "scrolled": true
   },
   "outputs": [],
   "source": [
    "#Training Data\n",
    "segments = [13,15,16,19,14,35,36]\n",
    "training_data_meso = adata[adata.obs['segment'] == 41]\n",
    "for segment in segments:\n",
    "    segment_data = adata[adata.obs['segment'] == segment]\n",
    "    training_data_meso = training_data_meso.concatenate(segment_data)\n",
    "training_data_meso.obs[\"cells\"] = \"Training data\""
   ]
  },
  {
   "cell_type": "code",
   "execution_count": 11,
   "id": "1419ee61",
   "metadata": {},
   "outputs": [
    {
     "ename": "NameError",
     "evalue": "name 'training_data_meso' is not defined",
     "output_type": "error",
     "traceback": [
      "\u001b[0;31m---------------------------------------------------------------------------\u001b[0m",
      "\u001b[0;31mNameError\u001b[0m                                 Traceback (most recent call last)",
      "Input \u001b[0;32mIn [11]\u001b[0m, in \u001b[0;36m<cell line: 1>\u001b[0;34m()\u001b[0m\n\u001b[0;32m----> 1\u001b[0m Mesoderm_lineage \u001b[38;5;241m=\u001b[39m \u001b[43mtraining_data_meso\u001b[49m[(training_data_meso\u001b[38;5;241m.\u001b[39mobs[\u001b[38;5;124m\"\u001b[39m\u001b[38;5;124mTime\u001b[39m\u001b[38;5;124m\"\u001b[39m] \u001b[38;5;241m<\u001b[39m\u001b[38;5;241m=\u001b[39m \u001b[38;5;241m7.5\u001b[39m) \u001b[38;5;241m|\u001b[39m (training_data_meso\u001b[38;5;241m.\u001b[39mobs[\u001b[38;5;124m\"\u001b[39m\u001b[38;5;124mTime\u001b[39m\u001b[38;5;124m\"\u001b[39m] \u001b[38;5;241m==\u001b[39m \u001b[38;5;241m8.5\u001b[39m)]\n",
      "\u001b[0;31mNameError\u001b[0m: name 'training_data_meso' is not defined"
     ]
    }
   ],
   "source": [
    "Mesoderm_lineage = training_data_meso[(training_data_meso.obs[\"Time\"] <= 7.5) | (training_data_meso.obs[\"Time\"] == 8.5)]"
   ]
  },
  {
   "cell_type": "code",
   "execution_count": 23,
   "id": "0629c161",
   "metadata": {},
   "outputs": [],
   "source": [
    "Ectoderm_lineage = training_data_ecto[(training_data_ecto.obs[\"Time\"] <= 7.5) | (training_data_ecto.obs[\"Time\"] == 8.5)]"
   ]
  },
  {
   "cell_type": "code",
   "execution_count": 24,
   "id": "d6e3f99d",
   "metadata": {},
   "outputs": [],
   "source": [
    "## Removing the incorrectly assigned cells from both lineages\n",
    "## Mesoderm"
   ]
  },
  {
   "cell_type": "code",
   "execution_count": 25,
   "id": "ed9bb758",
   "metadata": {},
   "outputs": [],
   "source": [
    "celltypes_to_remove = ['Def. endoderm', 'Gut', 'PGC','Rostral neurectoderm', 'Surface ectoderm']"
   ]
  },
  {
   "cell_type": "code",
   "execution_count": 26,
   "id": "38cbbd8f",
   "metadata": {},
   "outputs": [],
   "source": [
    "cells_to_remove = []\n",
    "for i in celltypes_to_remove : \n",
    "    cells_to_remove.append(np.array(Mesoderm_lineage[Mesoderm_lineage.obs[\"celltype\"] == i].obs_names))\n",
    "cells_to_remove = np.concatenate(cells_to_remove)    \n",
    "cells_to_keep = np.setdiff1d(np.array(Mesoderm_lineage.obs_names),cells_to_remove)"
   ]
  },
  {
   "cell_type": "code",
   "execution_count": 27,
   "id": "ea0d196a",
   "metadata": {},
   "outputs": [],
   "source": [
    "Mesoderm_lineage = Mesoderm_lineage[cells_to_keep]"
   ]
  },
  {
   "cell_type": "code",
   "execution_count": 28,
   "id": "534c8afa",
   "metadata": {},
   "outputs": [
    {
     "data": {
      "text/plain": [
       "Somitic mesoderm             533\n",
       "Nascent mesoderm             480\n",
       "Cardiomyocytes               437\n",
       "Mixed mesoderm               407\n",
       "Mesenchyme                   392\n",
       "Intermediate mesoderm        275\n",
       "Paraxial mesoderm            217\n",
       "Pharyngeal mesoderm          166\n",
       "Caudal epiblast               65\n",
       "Primitive Streak              51\n",
       "Caudal Mesoderm               17\n",
       "Anterior Primitive Streak      8\n",
       "Name: celltype, dtype: int64"
      ]
     },
     "execution_count": 28,
     "metadata": {},
     "output_type": "execute_result"
    }
   ],
   "source": [
    "Mesoderm_lineage.obs[\"celltype\"].value_counts()"
   ]
  },
  {
   "cell_type": "code",
   "execution_count": 29,
   "id": "c530586d",
   "metadata": {},
   "outputs": [],
   "source": [
    "## Ectoderm"
   ]
  },
  {
   "cell_type": "code",
   "execution_count": 30,
   "id": "c6354b8f",
   "metadata": {},
   "outputs": [],
   "source": [
    "celltypes_to_remove = ['Nascent mesoderm','PGC','Intermediate mesoderm','Caudal Mesoderm']"
   ]
  },
  {
   "cell_type": "code",
   "execution_count": 31,
   "id": "d4c52da0",
   "metadata": {},
   "outputs": [],
   "source": [
    "cells_to_remove = []\n",
    "for i in celltypes_to_remove : \n",
    "    cells_to_remove.append(np.array(Ectoderm_lineage[Ectoderm_lineage.obs[\"celltype\"] == i].obs_names))\n",
    "cells_to_remove = np.concatenate(cells_to_remove)    \n",
    "cells_to_keep = np.setdiff1d(np.array(Ectoderm_lineage.obs_names),cells_to_remove)"
   ]
  },
  {
   "cell_type": "code",
   "execution_count": 32,
   "id": "77307948",
   "metadata": {},
   "outputs": [],
   "source": [
    "Ectoderm_lineage = Ectoderm_lineage[cells_to_keep]"
   ]
  },
  {
   "cell_type": "code",
   "execution_count": 33,
   "id": "017e952a",
   "metadata": {},
   "outputs": [
    {
     "data": {
      "text/plain": [
       "Neural crest                    536\n",
       "Forebrain/Midbrain/Hindbrain    408\n",
       "Surface ectoderm                174\n",
       "NMP                             150\n",
       "Spinal cord                     136\n",
       "Epiblast                        122\n",
       "Primitive Streak                 71\n",
       "Rostral neurectoderm             56\n",
       "Caudal epiblast                  30\n",
       "Caudal neurectoderm               8\n",
       "Name: celltype, dtype: int64"
      ]
     },
     "execution_count": 33,
     "metadata": {},
     "output_type": "execute_result"
    }
   ],
   "source": [
    "Ectoderm_lineage.obs[\"celltype\"].value_counts()"
   ]
  },
  {
   "cell_type": "code",
   "execution_count": 34,
   "id": "7af5377a",
   "metadata": {},
   "outputs": [],
   "source": [
    "prog = Ectoderm_lineage[Ectoderm_lineage.obs[\"Time\"] <= 7.5]\n",
    "mature = Ectoderm_lineage[Ectoderm_lineage.obs[\"Time\"] == 8.5]"
   ]
  },
  {
   "cell_type": "code",
   "execution_count": 35,
   "id": "4cc3effe",
   "metadata": {},
   "outputs": [
    {
     "data": {
      "text/plain": [
       "Epiblast                122\n",
       "Primitive Streak         71\n",
       "Rostral neurectoderm     51\n",
       "Caudal epiblast          30\n",
       "Surface ectoderm         16\n",
       "Caudal neurectoderm       8\n",
       "Name: celltype, dtype: int64"
      ]
     },
     "execution_count": 35,
     "metadata": {},
     "output_type": "execute_result"
    }
   ],
   "source": [
    "prog.obs[\"celltype\"].value_counts()"
   ]
  },
  {
   "cell_type": "code",
   "execution_count": 36,
   "id": "b3e0b77b",
   "metadata": {},
   "outputs": [
    {
     "data": {
      "text/plain": [
       "Neural crest                    536\n",
       "Forebrain/Midbrain/Hindbrain    408\n",
       "Surface ectoderm                158\n",
       "NMP                             150\n",
       "Spinal cord                     136\n",
       "Rostral neurectoderm              5\n",
       "Name: celltype, dtype: int64"
      ]
     },
     "execution_count": 36,
     "metadata": {},
     "output_type": "execute_result"
    }
   ],
   "source": [
    "mature.obs[\"celltype\"].value_counts()"
   ]
  },
  {
   "cell_type": "code",
   "execution_count": 41,
   "id": "143dfd36",
   "metadata": {},
   "outputs": [],
   "source": [
    "## Divide Ectoderm into progenitors and mature cell types\n",
    "## And remove the unwanted cells placed in these categories"
   ]
  },
  {
   "cell_type": "markdown",
   "id": "0cdc4eb4",
   "metadata": {},
   "source": [
    "# mesoderm"
   ]
  },
  {
   "cell_type": "code",
   "execution_count": 37,
   "id": "9d06354f",
   "metadata": {},
   "outputs": [],
   "source": [
    "prog = Mesoderm_lineage[Mesoderm_lineage.obs[\"Time\"] <= 7.5]\n",
    "mature = Mesoderm_lineage[Mesoderm_lineage.obs[\"Time\"] == 8.5]"
   ]
  },
  {
   "cell_type": "code",
   "execution_count": 43,
   "id": "c196f01e",
   "metadata": {},
   "outputs": [],
   "source": [
    "celltypes_to_remove = ['Mesenchyme','Pharyngeal mesoderm','Paraxial mesoderm','Somitic mesoderm']\n",
    "cells_to_remove = []\n",
    "for i in celltypes_to_remove : \n",
    "    cells_to_remove.append(np.array(prog[prog.obs[\"celltype\"] == i].obs_names))\n",
    "cells_to_remove = np.concatenate(cells_to_remove)    \n",
    "cells_to_keep = np.setdiff1d(np.array(prog.obs_names),cells_to_remove)\n",
    "prog = prog[cells_to_keep]"
   ]
  },
  {
   "cell_type": "code",
   "execution_count": 63,
   "id": "ff82430d",
   "metadata": {},
   "outputs": [],
   "source": [
    "celltypes_to_remove = ['Intermediate mesoderm','Caudal Mesoderm']\n",
    "cells_to_remove = []\n",
    "for i in celltypes_to_remove : \n",
    "    cells_to_remove.append(np.array(mature[mature.obs[\"celltype\"] == i].obs_names))\n",
    "cells_to_remove = np.concatenate(cells_to_remove)    \n",
    "cells_to_keep = np.setdiff1d(np.array(mature.obs_names),cells_to_remove)\n",
    "mature = mature[cells_to_keep]"
   ]
  },
  {
   "cell_type": "code",
   "execution_count": 56,
   "id": "fdf9416e",
   "metadata": {
    "scrolled": true
   },
   "outputs": [
    {
     "name": "stderr",
     "output_type": "stream",
     "text": [
      "/home/gaurav/anaconda3/envs/project/lib/python3.10/site-packages/anndata/_core/anndata.py:1828: UserWarning: Observation names are not unique. To make them unique, call `.obs_names_make_unique`.\n",
      "  utils.warn_names_duplicates(\"obs\")\n",
      "/home/gaurav/anaconda3/envs/project/lib/python3.10/site-packages/anndata/_core/anndata.py:1785: FutureWarning: X.dtype being converted to np.float32 from float64. In the next version of anndata (0.9) conversion will not be automatic. Pass dtype explicitly to avoid this warning. Pass `AnnData(X, dtype=X.dtype, ...)` to get the future behavour.\n",
      "  [AnnData(sparse.csr_matrix(a.shape), obs=a.obs) for a in all_adatas],\n",
      "/home/gaurav/anaconda3/envs/project/lib/python3.10/site-packages/anndata/_core/anndata.py:1828: UserWarning: Observation names are not unique. To make them unique, call `.obs_names_make_unique`.\n",
      "  utils.warn_names_duplicates(\"obs\")\n",
      "/home/gaurav/anaconda3/envs/project/lib/python3.10/site-packages/anndata/_core/anndata.py:1828: UserWarning: Observation names are not unique. To make them unique, call `.obs_names_make_unique`.\n",
      "  utils.warn_names_duplicates(\"obs\")\n",
      "/home/gaurav/anaconda3/envs/project/lib/python3.10/site-packages/anndata/_core/anndata.py:1785: FutureWarning: X.dtype being converted to np.float32 from float64. In the next version of anndata (0.9) conversion will not be automatic. Pass dtype explicitly to avoid this warning. Pass `AnnData(X, dtype=X.dtype, ...)` to get the future behavour.\n",
      "  [AnnData(sparse.csr_matrix(a.shape), obs=a.obs) for a in all_adatas],\n",
      "/home/gaurav/anaconda3/envs/project/lib/python3.10/site-packages/anndata/_core/anndata.py:1828: UserWarning: Observation names are not unique. To make them unique, call `.obs_names_make_unique`.\n",
      "  utils.warn_names_duplicates(\"obs\")\n",
      "/home/gaurav/anaconda3/envs/project/lib/python3.10/site-packages/anndata/_core/anndata.py:1828: UserWarning: Observation names are not unique. To make them unique, call `.obs_names_make_unique`.\n",
      "  utils.warn_names_duplicates(\"obs\")\n",
      "/home/gaurav/anaconda3/envs/project/lib/python3.10/site-packages/anndata/_core/anndata.py:1785: FutureWarning: X.dtype being converted to np.float32 from float64. In the next version of anndata (0.9) conversion will not be automatic. Pass dtype explicitly to avoid this warning. Pass `AnnData(X, dtype=X.dtype, ...)` to get the future behavour.\n",
      "  [AnnData(sparse.csr_matrix(a.shape), obs=a.obs) for a in all_adatas],\n",
      "/home/gaurav/anaconda3/envs/project/lib/python3.10/site-packages/anndata/_core/anndata.py:1828: UserWarning: Observation names are not unique. To make them unique, call `.obs_names_make_unique`.\n",
      "  utils.warn_names_duplicates(\"obs\")\n",
      "/home/gaurav/anaconda3/envs/project/lib/python3.10/site-packages/anndata/_core/anndata.py:1828: UserWarning: Observation names are not unique. To make them unique, call `.obs_names_make_unique`.\n",
      "  utils.warn_names_duplicates(\"obs\")\n",
      "/home/gaurav/anaconda3/envs/project/lib/python3.10/site-packages/anndata/_core/anndata.py:1785: FutureWarning: X.dtype being converted to np.float32 from float64. In the next version of anndata (0.9) conversion will not be automatic. Pass dtype explicitly to avoid this warning. Pass `AnnData(X, dtype=X.dtype, ...)` to get the future behavour.\n",
      "  [AnnData(sparse.csr_matrix(a.shape), obs=a.obs) for a in all_adatas],\n",
      "/home/gaurav/anaconda3/envs/project/lib/python3.10/site-packages/anndata/_core/anndata.py:1828: UserWarning: Observation names are not unique. To make them unique, call `.obs_names_make_unique`.\n",
      "  utils.warn_names_duplicates(\"obs\")\n",
      "/home/gaurav/anaconda3/envs/project/lib/python3.10/site-packages/anndata/_core/anndata.py:1828: UserWarning: Observation names are not unique. To make them unique, call `.obs_names_make_unique`.\n",
      "  utils.warn_names_duplicates(\"obs\")\n",
      "/home/gaurav/anaconda3/envs/project/lib/python3.10/site-packages/anndata/_core/anndata.py:1785: FutureWarning: X.dtype being converted to np.float32 from float64. In the next version of anndata (0.9) conversion will not be automatic. Pass dtype explicitly to avoid this warning. Pass `AnnData(X, dtype=X.dtype, ...)` to get the future behavour.\n",
      "  [AnnData(sparse.csr_matrix(a.shape), obs=a.obs) for a in all_adatas],\n",
      "/home/gaurav/anaconda3/envs/project/lib/python3.10/site-packages/anndata/_core/anndata.py:1828: UserWarning: Observation names are not unique. To make them unique, call `.obs_names_make_unique`.\n",
      "  utils.warn_names_duplicates(\"obs\")\n",
      "/home/gaurav/anaconda3/envs/project/lib/python3.10/site-packages/anndata/_core/anndata.py:1828: UserWarning: Observation names are not unique. To make them unique, call `.obs_names_make_unique`.\n",
      "  utils.warn_names_duplicates(\"obs\")\n",
      "/home/gaurav/anaconda3/envs/project/lib/python3.10/site-packages/anndata/_core/anndata.py:1785: FutureWarning: X.dtype being converted to np.float32 from float64. In the next version of anndata (0.9) conversion will not be automatic. Pass dtype explicitly to avoid this warning. Pass `AnnData(X, dtype=X.dtype, ...)` to get the future behavour.\n",
      "  [AnnData(sparse.csr_matrix(a.shape), obs=a.obs) for a in all_adatas],\n",
      "/home/gaurav/anaconda3/envs/project/lib/python3.10/site-packages/anndata/_core/anndata.py:1828: UserWarning: Observation names are not unique. To make them unique, call `.obs_names_make_unique`.\n",
      "  utils.warn_names_duplicates(\"obs\")\n"
     ]
    }
   ],
   "source": [
    "# Starting data \n",
    "progenitors_data = prog[prog.obs['celltype'] == \"Nascent mesoderm\"]\n",
    "# Downsampling Starting data\n",
    "random_index = np.random.choice(np.arange(0,np.shape(progenitors_data)[0]),100)\n",
    "downsampled_proge_data = progenitors_data[random_index]\n",
    "\n",
    "segments = ['Mixed mesoderm','Caudal epiblast','Primitive Streak','Intermediate mesoderm','Anterior Primitive Streak','Caudal Mesoderm']\n",
    "for segment in segments:\n",
    "    cell_data = prog[prog.obs['celltype'] == segment]\n",
    "    random_index = np.random.choice(np.arange(0,np.shape(cell_data)[0]),100)\n",
    "    cell_data = cell_data[random_index]\n",
    "    downsampled_proge_data = downsampled_proge_data.concatenate(cell_data)\n",
    "    "
   ]
  },
  {
   "cell_type": "code",
   "execution_count": 70,
   "id": "c9466c39",
   "metadata": {
    "scrolled": true
   },
   "outputs": [
    {
     "name": "stderr",
     "output_type": "stream",
     "text": [
      "/home/gaurav/anaconda3/envs/project/lib/python3.10/site-packages/anndata/_core/anndata.py:1828: UserWarning: Observation names are not unique. To make them unique, call `.obs_names_make_unique`.\n",
      "  utils.warn_names_duplicates(\"obs\")\n",
      "/home/gaurav/anaconda3/envs/project/lib/python3.10/site-packages/anndata/_core/anndata.py:1785: FutureWarning: X.dtype being converted to np.float32 from float64. In the next version of anndata (0.9) conversion will not be automatic. Pass dtype explicitly to avoid this warning. Pass `AnnData(X, dtype=X.dtype, ...)` to get the future behavour.\n",
      "  [AnnData(sparse.csr_matrix(a.shape), obs=a.obs) for a in all_adatas],\n",
      "/home/gaurav/anaconda3/envs/project/lib/python3.10/site-packages/anndata/_core/anndata.py:1828: UserWarning: Observation names are not unique. To make them unique, call `.obs_names_make_unique`.\n",
      "  utils.warn_names_duplicates(\"obs\")\n",
      "/home/gaurav/anaconda3/envs/project/lib/python3.10/site-packages/anndata/_core/anndata.py:1828: UserWarning: Observation names are not unique. To make them unique, call `.obs_names_make_unique`.\n",
      "  utils.warn_names_duplicates(\"obs\")\n",
      "/home/gaurav/anaconda3/envs/project/lib/python3.10/site-packages/anndata/_core/anndata.py:1785: FutureWarning: X.dtype being converted to np.float32 from float64. In the next version of anndata (0.9) conversion will not be automatic. Pass dtype explicitly to avoid this warning. Pass `AnnData(X, dtype=X.dtype, ...)` to get the future behavour.\n",
      "  [AnnData(sparse.csr_matrix(a.shape), obs=a.obs) for a in all_adatas],\n",
      "/home/gaurav/anaconda3/envs/project/lib/python3.10/site-packages/anndata/_core/anndata.py:1828: UserWarning: Observation names are not unique. To make them unique, call `.obs_names_make_unique`.\n",
      "  utils.warn_names_duplicates(\"obs\")\n",
      "/home/gaurav/anaconda3/envs/project/lib/python3.10/site-packages/anndata/_core/anndata.py:1828: UserWarning: Observation names are not unique. To make them unique, call `.obs_names_make_unique`.\n",
      "  utils.warn_names_duplicates(\"obs\")\n",
      "/home/gaurav/anaconda3/envs/project/lib/python3.10/site-packages/anndata/_core/anndata.py:1785: FutureWarning: X.dtype being converted to np.float32 from float64. In the next version of anndata (0.9) conversion will not be automatic. Pass dtype explicitly to avoid this warning. Pass `AnnData(X, dtype=X.dtype, ...)` to get the future behavour.\n",
      "  [AnnData(sparse.csr_matrix(a.shape), obs=a.obs) for a in all_adatas],\n",
      "/home/gaurav/anaconda3/envs/project/lib/python3.10/site-packages/anndata/_core/anndata.py:1828: UserWarning: Observation names are not unique. To make them unique, call `.obs_names_make_unique`.\n",
      "  utils.warn_names_duplicates(\"obs\")\n",
      "/home/gaurav/anaconda3/envs/project/lib/python3.10/site-packages/anndata/_core/anndata.py:1828: UserWarning: Observation names are not unique. To make them unique, call `.obs_names_make_unique`.\n",
      "  utils.warn_names_duplicates(\"obs\")\n",
      "/home/gaurav/anaconda3/envs/project/lib/python3.10/site-packages/anndata/_core/anndata.py:1785: FutureWarning: X.dtype being converted to np.float32 from float64. In the next version of anndata (0.9) conversion will not be automatic. Pass dtype explicitly to avoid this warning. Pass `AnnData(X, dtype=X.dtype, ...)` to get the future behavour.\n",
      "  [AnnData(sparse.csr_matrix(a.shape), obs=a.obs) for a in all_adatas],\n",
      "/home/gaurav/anaconda3/envs/project/lib/python3.10/site-packages/anndata/_core/anndata.py:1828: UserWarning: Observation names are not unique. To make them unique, call `.obs_names_make_unique`.\n",
      "  utils.warn_names_duplicates(\"obs\")\n"
     ]
    }
   ],
   "source": [
    "# Starting data \n",
    "mature_data = mature[mature.obs['celltype'] == 'Cardiomyocytes']\n",
    "# Downsampling Starting data\n",
    "random_index = np.random.choice(np.arange(0,np.shape(mature_data)[0]),150)\n",
    "downsampled_mature_data = mature_data[random_index]\n",
    "\n",
    "segments = ['Mesenchyme', 'Paraxial mesoderm','Pharyngeal mesoderm', 'Somitic mesoderm']\n",
    "for segment in segments:\n",
    "    cell_data = mature[mature.obs['celltype'] == segment]\n",
    "    random_index = np.random.choice(np.arange(0,np.shape(cell_data)[0]),150)\n",
    "    cell_data = cell_data[random_index]\n",
    "    downsampled_mature_data = downsampled_mature_data.concatenate(cell_data)\n",
    "    "
   ]
  },
  {
   "cell_type": "code",
   "execution_count": 79,
   "id": "a4433aaa",
   "metadata": {},
   "outputs": [
    {
     "name": "stderr",
     "output_type": "stream",
     "text": [
      "/home/gaurav/anaconda3/envs/project/lib/python3.10/site-packages/anndata/_core/anndata.py:1828: UserWarning: Observation names are not unique. To make them unique, call `.obs_names_make_unique`.\n",
      "  utils.warn_names_duplicates(\"obs\")\n",
      "/home/gaurav/anaconda3/envs/project/lib/python3.10/site-packages/anndata/_core/anndata.py:1785: FutureWarning: X.dtype being converted to np.float32 from float64. In the next version of anndata (0.9) conversion will not be automatic. Pass dtype explicitly to avoid this warning. Pass `AnnData(X, dtype=X.dtype, ...)` to get the future behavour.\n",
      "  [AnnData(sparse.csr_matrix(a.shape), obs=a.obs) for a in all_adatas],\n",
      "/home/gaurav/anaconda3/envs/project/lib/python3.10/site-packages/anndata/_core/anndata.py:1828: UserWarning: Observation names are not unique. To make them unique, call `.obs_names_make_unique`.\n",
      "  utils.warn_names_duplicates(\"obs\")\n"
     ]
    }
   ],
   "source": [
    "downsampled_mesoderm = downsampled_proge_data.concatenate(downsampled_mature_data)"
   ]
  },
  {
   "cell_type": "markdown",
   "id": "94711aad",
   "metadata": {},
   "source": [
    "# ectoderm"
   ]
  },
  {
   "cell_type": "code",
   "execution_count": 97,
   "id": "dda5a630",
   "metadata": {},
   "outputs": [],
   "source": [
    "prog = Ectoderm_lineage[Ectoderm_lineage.obs[\"Time\"] <= 7.5]\n",
    "mature = Ectoderm_lineage[Ectoderm_lineage.obs[\"Time\"] == 8.5]"
   ]
  },
  {
   "cell_type": "code",
   "execution_count": 102,
   "id": "784b31aa",
   "metadata": {},
   "outputs": [
    {
     "data": {
      "text/plain": [
       "Epiblast                122\n",
       "Primitive Streak         71\n",
       "Rostral neurectoderm     51\n",
       "Caudal neurectoderm       8\n",
       "Name: celltype, dtype: int64"
      ]
     },
     "execution_count": 102,
     "metadata": {},
     "output_type": "execute_result"
    }
   ],
   "source": [
    "prog.obs[\"celltype\"].value_counts()"
   ]
  },
  {
   "cell_type": "code",
   "execution_count": 103,
   "id": "938f34fd",
   "metadata": {},
   "outputs": [
    {
     "data": {
      "text/plain": [
       "Neural crest                    536\n",
       "Forebrain/Midbrain/Hindbrain    408\n",
       "Surface ectoderm                158\n",
       "NMP                             150\n",
       "Spinal cord                     136\n",
       "Name: celltype, dtype: int64"
      ]
     },
     "execution_count": 103,
     "metadata": {},
     "output_type": "execute_result"
    }
   ],
   "source": [
    "mature.obs[\"celltype\"].value_counts()"
   ]
  },
  {
   "cell_type": "code",
   "execution_count": 100,
   "id": "0d039ce7",
   "metadata": {},
   "outputs": [],
   "source": [
    "celltypes_to_remove = ['Caudal epiblast','Surface ectoderm']\n",
    "cells_to_remove = []\n",
    "for i in celltypes_to_remove : \n",
    "    cells_to_remove.append(np.array(prog[prog.obs[\"celltype\"] == i].obs_names))\n",
    "cells_to_remove = np.concatenate(cells_to_remove)    \n",
    "cells_to_keep = np.setdiff1d(np.array(prog.obs_names),cells_to_remove)\n",
    "prog = prog[cells_to_keep]"
   ]
  },
  {
   "cell_type": "code",
   "execution_count": 101,
   "id": "bfd84423",
   "metadata": {},
   "outputs": [],
   "source": [
    "celltypes_to_remove = ['Intermediate mesoderm','Rostral neurectoderm']\n",
    "cells_to_remove = []\n",
    "for i in celltypes_to_remove : \n",
    "    cells_to_remove.append(np.array(mature[mature.obs[\"celltype\"] == i].obs_names))\n",
    "cells_to_remove = np.concatenate(cells_to_remove)    \n",
    "cells_to_keep = np.setdiff1d(np.array(mature.obs_names),cells_to_remove)\n",
    "mature = mature[cells_to_keep]"
   ]
  },
  {
   "cell_type": "code",
   "execution_count": 104,
   "id": "3374f0ce",
   "metadata": {
    "scrolled": true
   },
   "outputs": [
    {
     "name": "stderr",
     "output_type": "stream",
     "text": [
      "/home/gaurav/anaconda3/envs/project/lib/python3.10/site-packages/anndata/_core/anndata.py:1828: UserWarning: Observation names are not unique. To make them unique, call `.obs_names_make_unique`.\n",
      "  utils.warn_names_duplicates(\"obs\")\n",
      "/home/gaurav/anaconda3/envs/project/lib/python3.10/site-packages/anndata/_core/anndata.py:1785: FutureWarning: X.dtype being converted to np.float32 from float64. In the next version of anndata (0.9) conversion will not be automatic. Pass dtype explicitly to avoid this warning. Pass `AnnData(X, dtype=X.dtype, ...)` to get the future behavour.\n",
      "  [AnnData(sparse.csr_matrix(a.shape), obs=a.obs) for a in all_adatas],\n",
      "/home/gaurav/anaconda3/envs/project/lib/python3.10/site-packages/anndata/_core/anndata.py:1828: UserWarning: Observation names are not unique. To make them unique, call `.obs_names_make_unique`.\n",
      "  utils.warn_names_duplicates(\"obs\")\n",
      "/home/gaurav/anaconda3/envs/project/lib/python3.10/site-packages/anndata/_core/anndata.py:1828: UserWarning: Observation names are not unique. To make them unique, call `.obs_names_make_unique`.\n",
      "  utils.warn_names_duplicates(\"obs\")\n",
      "/home/gaurav/anaconda3/envs/project/lib/python3.10/site-packages/anndata/_core/anndata.py:1785: FutureWarning: X.dtype being converted to np.float32 from float64. In the next version of anndata (0.9) conversion will not be automatic. Pass dtype explicitly to avoid this warning. Pass `AnnData(X, dtype=X.dtype, ...)` to get the future behavour.\n",
      "  [AnnData(sparse.csr_matrix(a.shape), obs=a.obs) for a in all_adatas],\n",
      "/home/gaurav/anaconda3/envs/project/lib/python3.10/site-packages/anndata/_core/anndata.py:1828: UserWarning: Observation names are not unique. To make them unique, call `.obs_names_make_unique`.\n",
      "  utils.warn_names_duplicates(\"obs\")\n",
      "/home/gaurav/anaconda3/envs/project/lib/python3.10/site-packages/anndata/_core/anndata.py:1828: UserWarning: Observation names are not unique. To make them unique, call `.obs_names_make_unique`.\n",
      "  utils.warn_names_duplicates(\"obs\")\n",
      "/home/gaurav/anaconda3/envs/project/lib/python3.10/site-packages/anndata/_core/anndata.py:1785: FutureWarning: X.dtype being converted to np.float32 from float64. In the next version of anndata (0.9) conversion will not be automatic. Pass dtype explicitly to avoid this warning. Pass `AnnData(X, dtype=X.dtype, ...)` to get the future behavour.\n",
      "  [AnnData(sparse.csr_matrix(a.shape), obs=a.obs) for a in all_adatas],\n",
      "/home/gaurav/anaconda3/envs/project/lib/python3.10/site-packages/anndata/_core/anndata.py:1828: UserWarning: Observation names are not unique. To make them unique, call `.obs_names_make_unique`.\n",
      "  utils.warn_names_duplicates(\"obs\")\n"
     ]
    }
   ],
   "source": [
    "# Starting data \n",
    "progenitors_data = prog[prog.obs['celltype'] == 'Epiblast']\n",
    "# Downsampling Starting data\n",
    "random_index = np.random.choice(np.arange(0,np.shape(progenitors_data)[0]),100)\n",
    "downsampled_proge_data = progenitors_data[random_index]\n",
    "\n",
    "segments = ['Caudal neurectoderm', 'Primitive Streak','Rostral neurectoderm']\n",
    "for segment in segments:\n",
    "    cell_data = prog[prog.obs['celltype'] == segment]\n",
    "    random_index = np.random.choice(np.arange(0,np.shape(cell_data)[0]),100)\n",
    "    cell_data = cell_data[random_index]\n",
    "    downsampled_proge_data = downsampled_proge_data.concatenate(cell_data)"
   ]
  },
  {
   "cell_type": "code",
   "execution_count": 105,
   "id": "2876d254",
   "metadata": {
    "scrolled": true
   },
   "outputs": [
    {
     "name": "stderr",
     "output_type": "stream",
     "text": [
      "/home/gaurav/anaconda3/envs/project/lib/python3.10/site-packages/anndata/_core/anndata.py:1828: UserWarning: Observation names are not unique. To make them unique, call `.obs_names_make_unique`.\n",
      "  utils.warn_names_duplicates(\"obs\")\n",
      "/home/gaurav/anaconda3/envs/project/lib/python3.10/site-packages/anndata/_core/anndata.py:1785: FutureWarning: X.dtype being converted to np.float32 from float64. In the next version of anndata (0.9) conversion will not be automatic. Pass dtype explicitly to avoid this warning. Pass `AnnData(X, dtype=X.dtype, ...)` to get the future behavour.\n",
      "  [AnnData(sparse.csr_matrix(a.shape), obs=a.obs) for a in all_adatas],\n",
      "/home/gaurav/anaconda3/envs/project/lib/python3.10/site-packages/anndata/_core/anndata.py:1828: UserWarning: Observation names are not unique. To make them unique, call `.obs_names_make_unique`.\n",
      "  utils.warn_names_duplicates(\"obs\")\n",
      "/home/gaurav/anaconda3/envs/project/lib/python3.10/site-packages/anndata/_core/anndata.py:1828: UserWarning: Observation names are not unique. To make them unique, call `.obs_names_make_unique`.\n",
      "  utils.warn_names_duplicates(\"obs\")\n",
      "/home/gaurav/anaconda3/envs/project/lib/python3.10/site-packages/anndata/_core/anndata.py:1785: FutureWarning: X.dtype being converted to np.float32 from float64. In the next version of anndata (0.9) conversion will not be automatic. Pass dtype explicitly to avoid this warning. Pass `AnnData(X, dtype=X.dtype, ...)` to get the future behavour.\n",
      "  [AnnData(sparse.csr_matrix(a.shape), obs=a.obs) for a in all_adatas],\n",
      "/home/gaurav/anaconda3/envs/project/lib/python3.10/site-packages/anndata/_core/anndata.py:1828: UserWarning: Observation names are not unique. To make them unique, call `.obs_names_make_unique`.\n",
      "  utils.warn_names_duplicates(\"obs\")\n",
      "/home/gaurav/anaconda3/envs/project/lib/python3.10/site-packages/anndata/_core/anndata.py:1828: UserWarning: Observation names are not unique. To make them unique, call `.obs_names_make_unique`.\n",
      "  utils.warn_names_duplicates(\"obs\")\n",
      "/home/gaurav/anaconda3/envs/project/lib/python3.10/site-packages/anndata/_core/anndata.py:1785: FutureWarning: X.dtype being converted to np.float32 from float64. In the next version of anndata (0.9) conversion will not be automatic. Pass dtype explicitly to avoid this warning. Pass `AnnData(X, dtype=X.dtype, ...)` to get the future behavour.\n",
      "  [AnnData(sparse.csr_matrix(a.shape), obs=a.obs) for a in all_adatas],\n",
      "/home/gaurav/anaconda3/envs/project/lib/python3.10/site-packages/anndata/_core/anndata.py:1828: UserWarning: Observation names are not unique. To make them unique, call `.obs_names_make_unique`.\n",
      "  utils.warn_names_duplicates(\"obs\")\n",
      "/home/gaurav/anaconda3/envs/project/lib/python3.10/site-packages/anndata/_core/anndata.py:1828: UserWarning: Observation names are not unique. To make them unique, call `.obs_names_make_unique`.\n",
      "  utils.warn_names_duplicates(\"obs\")\n",
      "/home/gaurav/anaconda3/envs/project/lib/python3.10/site-packages/anndata/_core/anndata.py:1785: FutureWarning: X.dtype being converted to np.float32 from float64. In the next version of anndata (0.9) conversion will not be automatic. Pass dtype explicitly to avoid this warning. Pass `AnnData(X, dtype=X.dtype, ...)` to get the future behavour.\n",
      "  [AnnData(sparse.csr_matrix(a.shape), obs=a.obs) for a in all_adatas],\n",
      "/home/gaurav/anaconda3/envs/project/lib/python3.10/site-packages/anndata/_core/anndata.py:1828: UserWarning: Observation names are not unique. To make them unique, call `.obs_names_make_unique`.\n",
      "  utils.warn_names_duplicates(\"obs\")\n"
     ]
    }
   ],
   "source": [
    "# Starting data \n",
    "mature_data = mature[mature.obs['celltype'] == 'Forebrain/Midbrain/Hindbrain']\n",
    "# Downsampling Starting data\n",
    "random_index = np.random.choice(np.arange(0,np.shape(mature_data)[0]),100)\n",
    "downsampled_mature_data = mature_data[random_index]\n",
    "\n",
    "segments = ['NMP', 'Neural crest','Spinal cord', 'Surface ectoderm']\n",
    "for segment in segments:\n",
    "    cell_data = mature[mature.obs['celltype'] == segment]\n",
    "    random_index = np.random.choice(np.arange(0,np.shape(cell_data)[0]),100)\n",
    "    cell_data = cell_data[random_index]\n",
    "    downsampled_mature_data = downsampled_mature_data.concatenate(cell_data)\n",
    "    "
   ]
  },
  {
   "cell_type": "code",
   "execution_count": 106,
   "id": "14e5aec1",
   "metadata": {},
   "outputs": [
    {
     "name": "stderr",
     "output_type": "stream",
     "text": [
      "/home/gaurav/anaconda3/envs/project/lib/python3.10/site-packages/anndata/_core/anndata.py:1828: UserWarning: Observation names are not unique. To make them unique, call `.obs_names_make_unique`.\n",
      "  utils.warn_names_duplicates(\"obs\")\n",
      "/home/gaurav/anaconda3/envs/project/lib/python3.10/site-packages/anndata/_core/anndata.py:1785: FutureWarning: X.dtype being converted to np.float32 from float64. In the next version of anndata (0.9) conversion will not be automatic. Pass dtype explicitly to avoid this warning. Pass `AnnData(X, dtype=X.dtype, ...)` to get the future behavour.\n",
      "  [AnnData(sparse.csr_matrix(a.shape), obs=a.obs) for a in all_adatas],\n",
      "/home/gaurav/anaconda3/envs/project/lib/python3.10/site-packages/anndata/_core/anndata.py:1828: UserWarning: Observation names are not unique. To make them unique, call `.obs_names_make_unique`.\n",
      "  utils.warn_names_duplicates(\"obs\")\n"
     ]
    }
   ],
   "source": [
    "downsampled_ectoderm = downsampled_proge_data.concatenate(downsampled_mature_data)"
   ]
  },
  {
   "cell_type": "code",
   "execution_count": 111,
   "id": "1f2c440b",
   "metadata": {},
   "outputs": [],
   "source": [
    "downsampled_mesoderm.obs[\"endo_trajectoryName\"] = 0\n",
    "downsampled_ectoderm.obs[\"endo_trajectoryName\"] = 0"
   ]
  },
  {
   "cell_type": "code",
   "execution_count": 112,
   "id": "4af70f13",
   "metadata": {},
   "outputs": [],
   "source": [
    "downsampled_mesoderm.write_h5ad(\"/home/gaurav/Gaurav/Berlin/Paper/Pijuan_sala_data/Mesoderm_lineage_ds.h5ad\")\n",
    "downsampled_ectoderm.write_h5ad(\"/home/gaurav/Gaurav/Berlin/Paper/Pijuan_sala_data/Ectoderm_lineage_ds.h5ad\")"
   ]
  },
  {
   "cell_type": "code",
   "execution_count": 173,
   "id": "c84476e2",
   "metadata": {},
   "outputs": [],
   "source": []
  },
  {
   "cell_type": "code",
   "execution_count": null,
   "id": "9f5e0243",
   "metadata": {},
   "outputs": [],
   "source": []
  }
 ],
 "metadata": {
  "kernelspec": {
   "display_name": "Python 3 (ipykernel)",
   "language": "python",
   "name": "python3"
  },
  "language_info": {
   "codemirror_mode": {
    "name": "ipython",
    "version": 3
   },
   "file_extension": ".py",
   "mimetype": "text/x-python",
   "name": "python",
   "nbconvert_exporter": "python",
   "pygments_lexer": "ipython3",
   "version": "3.10.4"
  }
 },
 "nbformat": 4,
 "nbformat_minor": 5
}

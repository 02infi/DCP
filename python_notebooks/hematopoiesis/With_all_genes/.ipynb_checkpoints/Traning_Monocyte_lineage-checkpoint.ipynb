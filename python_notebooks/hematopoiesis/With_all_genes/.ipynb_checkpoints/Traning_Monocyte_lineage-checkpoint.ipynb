{
 "cells": [
  {
   "cell_type": "code",
   "execution_count": 17,
   "id": "2940a5a9",
   "metadata": {},
   "outputs": [],
   "source": [
    "import deep_predictor\n",
    "from collections.abc import Mapping\n",
    "import torch\n",
    "import scanpy as sc\n"
   ]
  },
  {
   "cell_type": "code",
   "execution_count": 18,
   "id": "308685d2",
   "metadata": {},
   "outputs": [],
   "source": [
    "import numpy as np\n",
    "import pandas as pd"
   ]
  },
  {
   "cell_type": "code",
   "execution_count": 19,
   "id": "a69e54c0",
   "metadata": {},
   "outputs": [],
   "source": [
    "adata = sc.read_h5ad(\"/home/gaurav/Gaurav/Berlin/Deep_Learning/pytorchVAE/Larry_data/Neutrophil_monocyte/larry_hema_training_data.h5ad\")"
   ]
  },
  {
   "cell_type": "code",
   "execution_count": 20,
   "id": "6dea05b0",
   "metadata": {},
   "outputs": [],
   "source": [
    "adata_segment_22 = adata[adata.obs[\"segment\"] == 22] #Monocyte\n",
    "adata_segment_25 = adata[adata.obs[\"segment\"] == 25] #Neutrophil "
   ]
  },
  {
   "cell_type": "code",
   "execution_count": 21,
   "id": "bf402468",
   "metadata": {},
   "outputs": [],
   "source": [
    "training_data = adata_segment_22[(adata_segment_22.obs[\"pseudotime\"] <= 0.1) | (adata_segment_22.obs[\"pseudotime\"] > 0.3)]"
   ]
  },
  {
   "cell_type": "code",
   "execution_count": 22,
   "id": "74aa15ca",
   "metadata": {},
   "outputs": [
    {
     "name": "stderr",
     "output_type": "stream",
     "text": [
      "/tmp/ipykernel_13780/3339499810.py:1: ImplicitModificationWarning: Trying to modify attribute `.obs` of view, initializing view as actual.\n",
      "  training_data.obs[\"cells\"] = \"Training data\"\n"
     ]
    }
   ],
   "source": [
    "training_data.obs[\"cells\"] = \"Training data\""
   ]
  },
  {
   "cell_type": "code",
   "execution_count": 23,
   "id": "68f00f84",
   "metadata": {},
   "outputs": [],
   "source": [
    "zebra_obj = deep_predictor.DeepPredictor(training_data,latent_dim=100,hidden_layers=[800,800],workers=8,parameters=[0,0,0,1,1],likelihood=\"nb\",batch_size=100)"
   ]
  },
  {
   "cell_type": "code",
   "execution_count": 24,
   "id": "f4b244f0",
   "metadata": {},
   "outputs": [
    {
     "name": "stderr",
     "output_type": "stream",
     "text": [
      "GPU available: False, used: False\n",
      "TPU available: False, using: 0 TPU cores\n",
      "IPU available: False, using: 0 IPUs\n",
      "HPU available: False, using: 0 HPUs\n",
      "\n",
      "  | Name  | Type     | Params\n",
      "-----------------------------------\n",
      "0 | model | VAEmodel | 26.4 M\n",
      "-----------------------------------\n",
      "26.4 M    Trainable params\n",
      "0         Non-trainable params\n",
      "26.4 M    Total params\n",
      "105.667   Total estimated model params size (MB)\n",
      "/home/gaurav/anaconda3/envs/project/lib/python3.10/site-packages/pytorch_lightning/trainer/trainer.py:1892: PossibleUserWarning: The number of training batches (10) is smaller than the logging interval Trainer(log_every_n_steps=50). Set a lower value for log_every_n_steps if you want to see logs for the training epoch.\n",
      "  rank_zero_warn(\n"
     ]
    },
    {
     "data": {
      "application/json": {
       "ascii": false,
       "bar_format": null,
       "colour": null,
       "elapsed": 0.03364109992980957,
       "initial": 0,
       "n": 0,
       "ncols": null,
       "nrows": null,
       "postfix": null,
       "prefix": "Training",
       "rate": null,
       "total": null,
       "unit": "it",
       "unit_divisor": 1000,
       "unit_scale": false
      },
      "application/vnd.jupyter.widget-view+json": {
       "model_id": "95d0f30ed0994f58b86334812cf543a5",
       "version_major": 2,
       "version_minor": 0
      },
      "text/plain": [
       "Training: 0it [00:00, ?it/s]"
      ]
     },
     "metadata": {},
     "output_type": "display_data"
    },
    {
     "name": "stderr",
     "output_type": "stream",
     "text": [
      "`Trainer.fit` stopped: `max_epochs=200` reached.\n"
     ]
    }
   ],
   "source": [
    "zebra_obj.train(epochs=200)"
   ]
  },
  {
   "cell_type": "code",
   "execution_count": 25,
   "id": "161948f8",
   "metadata": {},
   "outputs": [],
   "source": [
    "zebra_obj.save_model(path=\"/home/gaurav/Gaurav/Berlin/Deep_Learning/Project/models/NB_MMD/withouttestdata/Hema_monocyte_trained/model_200.pt\")"
   ]
  },
  {
   "cell_type": "code",
   "execution_count": null,
   "id": "da6ee7d2",
   "metadata": {},
   "outputs": [],
   "source": []
  },
  {
   "cell_type": "code",
   "execution_count": null,
   "id": "e811a56b",
   "metadata": {},
   "outputs": [],
   "source": []
  }
 ],
 "metadata": {
  "kernelspec": {
   "display_name": "Python 3 (ipykernel)",
   "language": "python",
   "name": "python3"
  },
  "language_info": {
   "codemirror_mode": {
    "name": "ipython",
    "version": 3
   },
   "file_extension": ".py",
   "mimetype": "text/x-python",
   "name": "python",
   "nbconvert_exporter": "python",
   "pygments_lexer": "ipython3",
   "version": "3.10.4"
  }
 },
 "nbformat": 4,
 "nbformat_minor": 5
}
